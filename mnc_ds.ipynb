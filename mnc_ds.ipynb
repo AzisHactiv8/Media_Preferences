{
 "cells": [
  {
   "cell_type": "markdown",
   "metadata": {},
   "source": [
    "### Hacktiv8 Talent Fair November 2022\n",
    "- Peserta: Azis Muslim DS 013\n",
    "- Dataset: MNC_Dataset"
   ]
  },
  {
   "cell_type": "markdown",
   "metadata": {},
   "source": [
    "## Analisis Model Machine Larning untuk Klasifikasi Acara Pada MNC Dataset"
   ]
  },
  {
   "cell_type": "markdown",
   "metadata": {},
   "source": [
    "### Latar Belakang\n",
    "- Permasalahan yang paling banyak memakan waktu dalam workflow pekerjaan adalah melabeli suatu dataset, karena jika dilakukan secara manual akan sangat membuang waktu. Tujuan dibuatnya model klasifikasi acara siaran menggunakan machine learning adalah untuk memangkas waktu pengelompokkan suatu acara tanpa harus memilahnya secara satu per satu. Model Machine Learning Classifier ini diharapkan dapat memecahkan permasalahan yang ada"
   ]
  },
  {
   "cell_type": "code",
   "execution_count": 147,
   "metadata": {},
   "outputs": [],
   "source": [
    "# Library yag digunakan\n",
    "import pandas as pd\n",
    "import numpy as np\n",
    "import matplotlib.pyplot as plt\n",
    "%matplotlib inline\n",
    "from sklearn.preprocessing import StandardScaler, MinMaxScaler\n",
    "from sklearn.pipeline import Pipeline\n",
    "from sklearn.compose import ColumnTransformer\n",
    "from sklearn.preprocessing import OneHotEncoder\n",
    "from sklearn.model_selection import train_test_split\n",
    "from sklearn.linear_model import LogisticRegression\n",
    "from sklearn.preprocessing import OrdinalEncoder\n",
    "from sklearn.metrics import accuracy_score,classification_report,ConfusionMatrixDisplay,confusion_matrix\n",
    "from sklearn import preprocessing\n",
    "import seaborn as sns"
   ]
  },
  {
   "cell_type": "code",
   "execution_count": 148,
   "metadata": {},
   "outputs": [
    {
     "data": {
      "text/html": [
       "<div>\n",
       "<style scoped>\n",
       "    .dataframe tbody tr th:only-of-type {\n",
       "        vertical-align: middle;\n",
       "    }\n",
       "\n",
       "    .dataframe tbody tr th {\n",
       "        vertical-align: top;\n",
       "    }\n",
       "\n",
       "    .dataframe thead th {\n",
       "        text-align: right;\n",
       "    }\n",
       "</style>\n",
       "<table border=\"1\" class=\"dataframe\">\n",
       "  <thead>\n",
       "    <tr style=\"text-align: right;\">\n",
       "      <th></th>\n",
       "      <th>Unnamed: 0</th>\n",
       "      <th>viewers_id</th>\n",
       "      <th>content_id</th>\n",
       "      <th>hit_timestamp</th>\n",
       "      <th>user_type</th>\n",
       "      <th>category_id</th>\n",
       "      <th>tagging</th>\n",
       "      <th>creator_id</th>\n",
       "      <th>category_name</th>\n",
       "      <th>viewers_birthdate</th>\n",
       "      <th>viewers_gender</th>\n",
       "      <th>viewers_region</th>\n",
       "    </tr>\n",
       "  </thead>\n",
       "  <tbody>\n",
       "    <tr>\n",
       "      <th>0</th>\n",
       "      <td>0</td>\n",
       "      <td>UN-RY8dNmQ</td>\n",
       "      <td>OC0RuX</td>\n",
       "      <td>2022-07-30</td>\n",
       "      <td>Anonymus User</td>\n",
       "      <td>23.0</td>\n",
       "      <td>[{\"tag_id\": \"l33saH\", \"tag_name\": \"nathalie-ho...</td>\n",
       "      <td>99jY83</td>\n",
       "      <td>Hiburan</td>\n",
       "      <td>NaN</td>\n",
       "      <td>NaN</td>\n",
       "      <td>NaN</td>\n",
       "    </tr>\n",
       "    <tr>\n",
       "      <th>1</th>\n",
       "      <td>1</td>\n",
       "      <td>UN-RY8dNmQ</td>\n",
       "      <td>OC0RuX</td>\n",
       "      <td>2022-07-30</td>\n",
       "      <td>Anonymus User</td>\n",
       "      <td>23.0</td>\n",
       "      <td>[{\"tag_id\": \"l33saH\", \"tag_name\": \"nathalie-ho...</td>\n",
       "      <td>99jY83</td>\n",
       "      <td>Hiburan</td>\n",
       "      <td>NaN</td>\n",
       "      <td>NaN</td>\n",
       "      <td>NaN</td>\n",
       "    </tr>\n",
       "    <tr>\n",
       "      <th>2</th>\n",
       "      <td>2</td>\n",
       "      <td>UN-b1g5Cc6</td>\n",
       "      <td>EsWkCd</td>\n",
       "      <td>2022-07-31</td>\n",
       "      <td>Anonymus User</td>\n",
       "      <td>23.0</td>\n",
       "      <td>[{\"tag_id\": \"Tw9Th4\", \"tag_name\": \"deddy-corbu...</td>\n",
       "      <td>99jY83</td>\n",
       "      <td>Hiburan</td>\n",
       "      <td>NaN</td>\n",
       "      <td>NaN</td>\n",
       "      <td>NaN</td>\n",
       "    </tr>\n",
       "    <tr>\n",
       "      <th>3</th>\n",
       "      <td>3</td>\n",
       "      <td>UN-b1g5Cc6</td>\n",
       "      <td>EsWkCd</td>\n",
       "      <td>2022-07-31</td>\n",
       "      <td>Anonymus User</td>\n",
       "      <td>23.0</td>\n",
       "      <td>[{\"tag_id\": \"Tw9Th4\", \"tag_name\": \"deddy-corbu...</td>\n",
       "      <td>99jY83</td>\n",
       "      <td>Hiburan</td>\n",
       "      <td>NaN</td>\n",
       "      <td>NaN</td>\n",
       "      <td>NaN</td>\n",
       "    </tr>\n",
       "    <tr>\n",
       "      <th>4</th>\n",
       "      <td>4</td>\n",
       "      <td>UN-kNqX0xJ</td>\n",
       "      <td>WMKZwi</td>\n",
       "      <td>2022-07-31</td>\n",
       "      <td>Anonymus User</td>\n",
       "      <td>23.0</td>\n",
       "      <td>[{\"tag_id\": \"MSDG2f\", \"tag_name\": \"valencia-ta...</td>\n",
       "      <td>99jY83</td>\n",
       "      <td>Hiburan</td>\n",
       "      <td>NaN</td>\n",
       "      <td>NaN</td>\n",
       "      <td>NaN</td>\n",
       "    </tr>\n",
       "    <tr>\n",
       "      <th>...</th>\n",
       "      <td>...</td>\n",
       "      <td>...</td>\n",
       "      <td>...</td>\n",
       "      <td>...</td>\n",
       "      <td>...</td>\n",
       "      <td>...</td>\n",
       "      <td>...</td>\n",
       "      <td>...</td>\n",
       "      <td>...</td>\n",
       "      <td>...</td>\n",
       "      <td>...</td>\n",
       "      <td>...</td>\n",
       "    </tr>\n",
       "    <tr>\n",
       "      <th>958542</th>\n",
       "      <td>958542</td>\n",
       "      <td>KTq08K</td>\n",
       "      <td>1BZ98E</td>\n",
       "      <td>2022-08-29</td>\n",
       "      <td>Register User</td>\n",
       "      <td>13.0</td>\n",
       "      <td>NaN</td>\n",
       "      <td>39jZ02</td>\n",
       "      <td>Humor</td>\n",
       "      <td>1987-11-05</td>\n",
       "      <td>Male</td>\n",
       "      <td>Jakarta</td>\n",
       "    </tr>\n",
       "    <tr>\n",
       "      <th>958543</th>\n",
       "      <td>958543</td>\n",
       "      <td>UN-eRISZYj</td>\n",
       "      <td>1BZ98E</td>\n",
       "      <td>2022-08-29</td>\n",
       "      <td>Anonymus User</td>\n",
       "      <td>13.0</td>\n",
       "      <td>NaN</td>\n",
       "      <td>39jZ02</td>\n",
       "      <td>Humor</td>\n",
       "      <td>NaN</td>\n",
       "      <td>NaN</td>\n",
       "      <td>NaN</td>\n",
       "    </tr>\n",
       "    <tr>\n",
       "      <th>958544</th>\n",
       "      <td>958544</td>\n",
       "      <td>KTq08K</td>\n",
       "      <td>1BZ98E</td>\n",
       "      <td>2022-08-29</td>\n",
       "      <td>Register User</td>\n",
       "      <td>13.0</td>\n",
       "      <td>NaN</td>\n",
       "      <td>39jZ02</td>\n",
       "      <td>Humor</td>\n",
       "      <td>1987-11-05</td>\n",
       "      <td>Male</td>\n",
       "      <td>Jakarta</td>\n",
       "    </tr>\n",
       "    <tr>\n",
       "      <th>958545</th>\n",
       "      <td>958545</td>\n",
       "      <td>UN-DHiHLsN</td>\n",
       "      <td>bDrGRd</td>\n",
       "      <td>2022-08-12</td>\n",
       "      <td>Anonymus User</td>\n",
       "      <td>13.0</td>\n",
       "      <td>[{\"tag_id\": \"D5mK4C\", \"tag_name\": \"dunia-polit...</td>\n",
       "      <td>99jY83</td>\n",
       "      <td>Humor</td>\n",
       "      <td>NaN</td>\n",
       "      <td>NaN</td>\n",
       "      <td>NaN</td>\n",
       "    </tr>\n",
       "    <tr>\n",
       "      <th>958546</th>\n",
       "      <td>958546</td>\n",
       "      <td>UN-DHiHLsN</td>\n",
       "      <td>bDrGRd</td>\n",
       "      <td>2022-08-12</td>\n",
       "      <td>Anonymus User</td>\n",
       "      <td>13.0</td>\n",
       "      <td>[{\"tag_id\": \"D5mK4C\", \"tag_name\": \"dunia-polit...</td>\n",
       "      <td>99jY83</td>\n",
       "      <td>Humor</td>\n",
       "      <td>NaN</td>\n",
       "      <td>NaN</td>\n",
       "      <td>NaN</td>\n",
       "    </tr>\n",
       "  </tbody>\n",
       "</table>\n",
       "<p>958547 rows × 12 columns</p>\n",
       "</div>"
      ],
      "text/plain": [
       "        Unnamed: 0  viewers_id content_id hit_timestamp      user_type  \\\n",
       "0                0  UN-RY8dNmQ     OC0RuX    2022-07-30  Anonymus User   \n",
       "1                1  UN-RY8dNmQ     OC0RuX    2022-07-30  Anonymus User   \n",
       "2                2  UN-b1g5Cc6     EsWkCd    2022-07-31  Anonymus User   \n",
       "3                3  UN-b1g5Cc6     EsWkCd    2022-07-31  Anonymus User   \n",
       "4                4  UN-kNqX0xJ     WMKZwi    2022-07-31  Anonymus User   \n",
       "...            ...         ...        ...           ...            ...   \n",
       "958542      958542      KTq08K     1BZ98E    2022-08-29  Register User   \n",
       "958543      958543  UN-eRISZYj     1BZ98E    2022-08-29  Anonymus User   \n",
       "958544      958544      KTq08K     1BZ98E    2022-08-29  Register User   \n",
       "958545      958545  UN-DHiHLsN     bDrGRd    2022-08-12  Anonymus User   \n",
       "958546      958546  UN-DHiHLsN     bDrGRd    2022-08-12  Anonymus User   \n",
       "\n",
       "        category_id                                            tagging  \\\n",
       "0              23.0  [{\"tag_id\": \"l33saH\", \"tag_name\": \"nathalie-ho...   \n",
       "1              23.0  [{\"tag_id\": \"l33saH\", \"tag_name\": \"nathalie-ho...   \n",
       "2              23.0  [{\"tag_id\": \"Tw9Th4\", \"tag_name\": \"deddy-corbu...   \n",
       "3              23.0  [{\"tag_id\": \"Tw9Th4\", \"tag_name\": \"deddy-corbu...   \n",
       "4              23.0  [{\"tag_id\": \"MSDG2f\", \"tag_name\": \"valencia-ta...   \n",
       "...             ...                                                ...   \n",
       "958542         13.0                                                NaN   \n",
       "958543         13.0                                                NaN   \n",
       "958544         13.0                                                NaN   \n",
       "958545         13.0  [{\"tag_id\": \"D5mK4C\", \"tag_name\": \"dunia-polit...   \n",
       "958546         13.0  [{\"tag_id\": \"D5mK4C\", \"tag_name\": \"dunia-polit...   \n",
       "\n",
       "       creator_id category_name viewers_birthdate viewers_gender  \\\n",
       "0          99jY83       Hiburan               NaN            NaN   \n",
       "1          99jY83       Hiburan               NaN            NaN   \n",
       "2          99jY83       Hiburan               NaN            NaN   \n",
       "3          99jY83       Hiburan               NaN            NaN   \n",
       "4          99jY83       Hiburan               NaN            NaN   \n",
       "...           ...           ...               ...            ...   \n",
       "958542     39jZ02         Humor        1987-11-05           Male   \n",
       "958543     39jZ02         Humor               NaN            NaN   \n",
       "958544     39jZ02         Humor        1987-11-05           Male   \n",
       "958545     99jY83         Humor               NaN            NaN   \n",
       "958546     99jY83         Humor               NaN            NaN   \n",
       "\n",
       "       viewers_region  \n",
       "0                 NaN  \n",
       "1                 NaN  \n",
       "2                 NaN  \n",
       "3                 NaN  \n",
       "4                 NaN  \n",
       "...               ...  \n",
       "958542        Jakarta  \n",
       "958543            NaN  \n",
       "958544        Jakarta  \n",
       "958545            NaN  \n",
       "958546            NaN  \n",
       "\n",
       "[958547 rows x 12 columns]"
      ]
     },
     "execution_count": 148,
     "metadata": {},
     "output_type": "execute_result"
    }
   ],
   "source": [
    "# Kode ini digunakan untuk membaca dataset CSV\n",
    "df_media = pd.read_csv('media_data.csv')\n",
    "df_media"
   ]
  },
  {
   "cell_type": "markdown",
   "metadata": {},
   "source": [
    "Berdasarkan MNC media dataset di atas dapat terlihat jumlah dataset yang akan di analisa memiliki 9.58.547 baris dan 12 kolom"
   ]
  },
  {
   "cell_type": "code",
   "execution_count": 149,
   "metadata": {},
   "outputs": [
    {
     "data": {
      "text/html": [
       "<div>\n",
       "<style scoped>\n",
       "    .dataframe tbody tr th:only-of-type {\n",
       "        vertical-align: middle;\n",
       "    }\n",
       "\n",
       "    .dataframe tbody tr th {\n",
       "        vertical-align: top;\n",
       "    }\n",
       "\n",
       "    .dataframe thead th {\n",
       "        text-align: right;\n",
       "    }\n",
       "</style>\n",
       "<table border=\"1\" class=\"dataframe\">\n",
       "  <thead>\n",
       "    <tr style=\"text-align: right;\">\n",
       "      <th></th>\n",
       "      <th>Unnamed: 0</th>\n",
       "      <th>viewers_id</th>\n",
       "      <th>content_id</th>\n",
       "      <th>hit_timestamp</th>\n",
       "      <th>user_type</th>\n",
       "      <th>category_id</th>\n",
       "      <th>tagging</th>\n",
       "      <th>creator_id</th>\n",
       "      <th>category_name</th>\n",
       "      <th>viewers_birthdate</th>\n",
       "      <th>viewers_gender</th>\n",
       "      <th>viewers_region</th>\n",
       "    </tr>\n",
       "  </thead>\n",
       "  <tbody>\n",
       "    <tr>\n",
       "      <th>0</th>\n",
       "      <td>0</td>\n",
       "      <td>UN-RY8dNmQ</td>\n",
       "      <td>OC0RuX</td>\n",
       "      <td>2022-07-30</td>\n",
       "      <td>Anonymus User</td>\n",
       "      <td>23.0</td>\n",
       "      <td>[{\"tag_id\": \"l33saH\", \"tag_name\": \"nathalie-ho...</td>\n",
       "      <td>99jY83</td>\n",
       "      <td>Hiburan</td>\n",
       "      <td>NaN</td>\n",
       "      <td>NaN</td>\n",
       "      <td>NaN</td>\n",
       "    </tr>\n",
       "    <tr>\n",
       "      <th>1</th>\n",
       "      <td>1</td>\n",
       "      <td>UN-RY8dNmQ</td>\n",
       "      <td>OC0RuX</td>\n",
       "      <td>2022-07-30</td>\n",
       "      <td>Anonymus User</td>\n",
       "      <td>23.0</td>\n",
       "      <td>[{\"tag_id\": \"l33saH\", \"tag_name\": \"nathalie-ho...</td>\n",
       "      <td>99jY83</td>\n",
       "      <td>Hiburan</td>\n",
       "      <td>NaN</td>\n",
       "      <td>NaN</td>\n",
       "      <td>NaN</td>\n",
       "    </tr>\n",
       "    <tr>\n",
       "      <th>2</th>\n",
       "      <td>2</td>\n",
       "      <td>UN-b1g5Cc6</td>\n",
       "      <td>EsWkCd</td>\n",
       "      <td>2022-07-31</td>\n",
       "      <td>Anonymus User</td>\n",
       "      <td>23.0</td>\n",
       "      <td>[{\"tag_id\": \"Tw9Th4\", \"tag_name\": \"deddy-corbu...</td>\n",
       "      <td>99jY83</td>\n",
       "      <td>Hiburan</td>\n",
       "      <td>NaN</td>\n",
       "      <td>NaN</td>\n",
       "      <td>NaN</td>\n",
       "    </tr>\n",
       "    <tr>\n",
       "      <th>3</th>\n",
       "      <td>3</td>\n",
       "      <td>UN-b1g5Cc6</td>\n",
       "      <td>EsWkCd</td>\n",
       "      <td>2022-07-31</td>\n",
       "      <td>Anonymus User</td>\n",
       "      <td>23.0</td>\n",
       "      <td>[{\"tag_id\": \"Tw9Th4\", \"tag_name\": \"deddy-corbu...</td>\n",
       "      <td>99jY83</td>\n",
       "      <td>Hiburan</td>\n",
       "      <td>NaN</td>\n",
       "      <td>NaN</td>\n",
       "      <td>NaN</td>\n",
       "    </tr>\n",
       "    <tr>\n",
       "      <th>4</th>\n",
       "      <td>4</td>\n",
       "      <td>UN-kNqX0xJ</td>\n",
       "      <td>WMKZwi</td>\n",
       "      <td>2022-07-31</td>\n",
       "      <td>Anonymus User</td>\n",
       "      <td>23.0</td>\n",
       "      <td>[{\"tag_id\": \"MSDG2f\", \"tag_name\": \"valencia-ta...</td>\n",
       "      <td>99jY83</td>\n",
       "      <td>Hiburan</td>\n",
       "      <td>NaN</td>\n",
       "      <td>NaN</td>\n",
       "      <td>NaN</td>\n",
       "    </tr>\n",
       "  </tbody>\n",
       "</table>\n",
       "</div>"
      ],
      "text/plain": [
       "   Unnamed: 0  viewers_id content_id hit_timestamp      user_type  \\\n",
       "0           0  UN-RY8dNmQ     OC0RuX    2022-07-30  Anonymus User   \n",
       "1           1  UN-RY8dNmQ     OC0RuX    2022-07-30  Anonymus User   \n",
       "2           2  UN-b1g5Cc6     EsWkCd    2022-07-31  Anonymus User   \n",
       "3           3  UN-b1g5Cc6     EsWkCd    2022-07-31  Anonymus User   \n",
       "4           4  UN-kNqX0xJ     WMKZwi    2022-07-31  Anonymus User   \n",
       "\n",
       "   category_id                                            tagging creator_id  \\\n",
       "0         23.0  [{\"tag_id\": \"l33saH\", \"tag_name\": \"nathalie-ho...     99jY83   \n",
       "1         23.0  [{\"tag_id\": \"l33saH\", \"tag_name\": \"nathalie-ho...     99jY83   \n",
       "2         23.0  [{\"tag_id\": \"Tw9Th4\", \"tag_name\": \"deddy-corbu...     99jY83   \n",
       "3         23.0  [{\"tag_id\": \"Tw9Th4\", \"tag_name\": \"deddy-corbu...     99jY83   \n",
       "4         23.0  [{\"tag_id\": \"MSDG2f\", \"tag_name\": \"valencia-ta...     99jY83   \n",
       "\n",
       "  category_name viewers_birthdate viewers_gender viewers_region  \n",
       "0       Hiburan               NaN            NaN            NaN  \n",
       "1       Hiburan               NaN            NaN            NaN  \n",
       "2       Hiburan               NaN            NaN            NaN  \n",
       "3       Hiburan               NaN            NaN            NaN  \n",
       "4       Hiburan               NaN            NaN            NaN  "
      ]
     },
     "execution_count": 149,
     "metadata": {},
     "output_type": "execute_result"
    }
   ],
   "source": [
    "# Kode ini digunakan untuk menampilkan lima baris paling atas dari dataset\n",
    "df_media.head(5)"
   ]
  },
  {
   "cell_type": "code",
   "execution_count": 150,
   "metadata": {},
   "outputs": [
    {
     "data": {
      "text/html": [
       "<div>\n",
       "<style scoped>\n",
       "    .dataframe tbody tr th:only-of-type {\n",
       "        vertical-align: middle;\n",
       "    }\n",
       "\n",
       "    .dataframe tbody tr th {\n",
       "        vertical-align: top;\n",
       "    }\n",
       "\n",
       "    .dataframe thead th {\n",
       "        text-align: right;\n",
       "    }\n",
       "</style>\n",
       "<table border=\"1\" class=\"dataframe\">\n",
       "  <thead>\n",
       "    <tr style=\"text-align: right;\">\n",
       "      <th></th>\n",
       "      <th>Unnamed: 0</th>\n",
       "      <th>viewers_id</th>\n",
       "      <th>content_id</th>\n",
       "      <th>hit_timestamp</th>\n",
       "      <th>user_type</th>\n",
       "      <th>category_id</th>\n",
       "      <th>tagging</th>\n",
       "      <th>creator_id</th>\n",
       "      <th>category_name</th>\n",
       "      <th>viewers_birthdate</th>\n",
       "      <th>viewers_gender</th>\n",
       "      <th>viewers_region</th>\n",
       "    </tr>\n",
       "  </thead>\n",
       "  <tbody>\n",
       "    <tr>\n",
       "      <th>958542</th>\n",
       "      <td>958542</td>\n",
       "      <td>KTq08K</td>\n",
       "      <td>1BZ98E</td>\n",
       "      <td>2022-08-29</td>\n",
       "      <td>Register User</td>\n",
       "      <td>13.0</td>\n",
       "      <td>NaN</td>\n",
       "      <td>39jZ02</td>\n",
       "      <td>Humor</td>\n",
       "      <td>1987-11-05</td>\n",
       "      <td>Male</td>\n",
       "      <td>Jakarta</td>\n",
       "    </tr>\n",
       "    <tr>\n",
       "      <th>958543</th>\n",
       "      <td>958543</td>\n",
       "      <td>UN-eRISZYj</td>\n",
       "      <td>1BZ98E</td>\n",
       "      <td>2022-08-29</td>\n",
       "      <td>Anonymus User</td>\n",
       "      <td>13.0</td>\n",
       "      <td>NaN</td>\n",
       "      <td>39jZ02</td>\n",
       "      <td>Humor</td>\n",
       "      <td>NaN</td>\n",
       "      <td>NaN</td>\n",
       "      <td>NaN</td>\n",
       "    </tr>\n",
       "    <tr>\n",
       "      <th>958544</th>\n",
       "      <td>958544</td>\n",
       "      <td>KTq08K</td>\n",
       "      <td>1BZ98E</td>\n",
       "      <td>2022-08-29</td>\n",
       "      <td>Register User</td>\n",
       "      <td>13.0</td>\n",
       "      <td>NaN</td>\n",
       "      <td>39jZ02</td>\n",
       "      <td>Humor</td>\n",
       "      <td>1987-11-05</td>\n",
       "      <td>Male</td>\n",
       "      <td>Jakarta</td>\n",
       "    </tr>\n",
       "    <tr>\n",
       "      <th>958545</th>\n",
       "      <td>958545</td>\n",
       "      <td>UN-DHiHLsN</td>\n",
       "      <td>bDrGRd</td>\n",
       "      <td>2022-08-12</td>\n",
       "      <td>Anonymus User</td>\n",
       "      <td>13.0</td>\n",
       "      <td>[{\"tag_id\": \"D5mK4C\", \"tag_name\": \"dunia-polit...</td>\n",
       "      <td>99jY83</td>\n",
       "      <td>Humor</td>\n",
       "      <td>NaN</td>\n",
       "      <td>NaN</td>\n",
       "      <td>NaN</td>\n",
       "    </tr>\n",
       "    <tr>\n",
       "      <th>958546</th>\n",
       "      <td>958546</td>\n",
       "      <td>UN-DHiHLsN</td>\n",
       "      <td>bDrGRd</td>\n",
       "      <td>2022-08-12</td>\n",
       "      <td>Anonymus User</td>\n",
       "      <td>13.0</td>\n",
       "      <td>[{\"tag_id\": \"D5mK4C\", \"tag_name\": \"dunia-polit...</td>\n",
       "      <td>99jY83</td>\n",
       "      <td>Humor</td>\n",
       "      <td>NaN</td>\n",
       "      <td>NaN</td>\n",
       "      <td>NaN</td>\n",
       "    </tr>\n",
       "  </tbody>\n",
       "</table>\n",
       "</div>"
      ],
      "text/plain": [
       "        Unnamed: 0  viewers_id content_id hit_timestamp      user_type  \\\n",
       "958542      958542      KTq08K     1BZ98E    2022-08-29  Register User   \n",
       "958543      958543  UN-eRISZYj     1BZ98E    2022-08-29  Anonymus User   \n",
       "958544      958544      KTq08K     1BZ98E    2022-08-29  Register User   \n",
       "958545      958545  UN-DHiHLsN     bDrGRd    2022-08-12  Anonymus User   \n",
       "958546      958546  UN-DHiHLsN     bDrGRd    2022-08-12  Anonymus User   \n",
       "\n",
       "        category_id                                            tagging  \\\n",
       "958542         13.0                                                NaN   \n",
       "958543         13.0                                                NaN   \n",
       "958544         13.0                                                NaN   \n",
       "958545         13.0  [{\"tag_id\": \"D5mK4C\", \"tag_name\": \"dunia-polit...   \n",
       "958546         13.0  [{\"tag_id\": \"D5mK4C\", \"tag_name\": \"dunia-polit...   \n",
       "\n",
       "       creator_id category_name viewers_birthdate viewers_gender  \\\n",
       "958542     39jZ02         Humor        1987-11-05           Male   \n",
       "958543     39jZ02         Humor               NaN            NaN   \n",
       "958544     39jZ02         Humor        1987-11-05           Male   \n",
       "958545     99jY83         Humor               NaN            NaN   \n",
       "958546     99jY83         Humor               NaN            NaN   \n",
       "\n",
       "       viewers_region  \n",
       "958542        Jakarta  \n",
       "958543            NaN  \n",
       "958544        Jakarta  \n",
       "958545            NaN  \n",
       "958546            NaN  "
      ]
     },
     "execution_count": 150,
     "metadata": {},
     "output_type": "execute_result"
    }
   ],
   "source": [
    "# Kode ini digunakan untuk menampilkan lima baris paling bawah dari dataset\n",
    "df_media.tail(5)"
   ]
  },
  {
   "cell_type": "code",
   "execution_count": 151,
   "metadata": {},
   "outputs": [
    {
     "data": {
      "text/plain": [
       "Unnamed: 0                0\n",
       "viewers_id                0\n",
       "content_id                0\n",
       "hit_timestamp             0\n",
       "user_type                 0\n",
       "category_id               0\n",
       "tagging               38272\n",
       "creator_id                0\n",
       "category_name             0\n",
       "viewers_birthdate    954432\n",
       "viewers_gender       954432\n",
       "viewers_region       954559\n",
       "dtype: int64"
      ]
     },
     "execution_count": 151,
     "metadata": {},
     "output_type": "execute_result"
    }
   ],
   "source": [
    "# Kode ini digunakan untuk melihat Null yang terdeteksi pada setiap kolom dataset\n",
    "df_media.isnull().sum()"
   ]
  },
  {
   "cell_type": "markdown",
   "metadata": {},
   "source": [
    "Berdasarkan informasi yang ditampilkan dari hasil running kode di atas dapat terlihat bahwa pada dataset mnc media yang memiliki 9.58.547 baris dan 12 kolom. Empat kolom diantaranya terdapat missing value dimana pada kolom tagging terdapat 38.272 missing values, pada kolom viewers_birthdate terdapat 9.54.432 missing values, pada kolom viewers_gender terapat 9.54.432 missing vaues, dan pada kolom viewers_region terdapat 9.54.559 missing values."
   ]
  },
  {
   "cell_type": "code",
   "execution_count": 152,
   "metadata": {},
   "outputs": [
    {
     "data": {
      "text/plain": [
       "'[{\"tag_id\": \"l33saH\", \"tag_name\": \"nathalie-holscher\", \"tag_slug\": \"nathalie-holscher\", \"status\": 1, \"created\": {\"$date\": \"2021-11-22T02:32:04.404Z\"}, \"updateat\": {\"$date\": \"0001-01-03T00:00:00.000Z\"}, \"backgroundimage\": \"\", \"tumbimage\": \"\", \"source\": 2}, {\"tag_id\": \"n3X0Hm\", \"tag_name\": \"sidang-cerai-nathalie-holscher\", \"tag_slug\": \"sidang-cerai-nathalie-holscher\", \"status\": 1, \"created\": {\"$date\": \"2022-07-15T08:40:23.444Z\"}, \"updateat\": {\"$date\": \"0001-01-03T00:00:00.000Z\"}, \"backgroundimage\": \"\", \"tumbimage\": \"\", \"source\": 2}, {\"tag_id\": \"EiUKlV\", \"tag_name\": \"perceraian-nathalie-holscher\", \"tag_slug\": \"perceraian-nathalie-holscher\", \"status\": 1, \"created\": {\"$date\": \"2022-07-07T04:15:45.332Z\"}, \"updateat\": {\"$date\": \"0001-01-03T00:00:00.000Z\"}, \"backgroundimage\": \"\", \"tumbimage\": \"\", \"source\": 2}, {\"tag_id\": \"eK7aRP\", \"tag_name\": \"sule\", \"tag_slug\": \"sule\", \"status\": 1, \"created\": {\"$date\": \"2022-07-18T23:53:06.557Z\"}, \"updateat\": {\"$date\": \"0001-01-03T00:00:00.000Z\"}, \"backgroundimage\": \"\", \"tumbimage\": \"\", \"source\": 2}, {\"tag_id\": \"jRTR9w\", \"tag_name\": \"nathalie-holscher-dan-sule\", \"tag_slug\": \"nathalie-holscher-dan-sule\", \"status\": 1, \"created\": {\"$date\": \"2021-12-12T03:04:05.103Z\"}, \"updateat\": {\"$date\": \"0001-01-03T00:00:00.000Z\"}, \"backgroundimage\": \"\", \"tumbimage\": \"\", \"source\": 2}]'"
      ]
     },
     "execution_count": 152,
     "metadata": {},
     "output_type": "execute_result"
    }
   ],
   "source": [
    "# Kode ini digunakan untuk melihat isi pada kolom tangging\n",
    "df_media['tagging'][0]"
   ]
  },
  {
   "cell_type": "markdown",
   "metadata": {},
   "source": [
    "Setelah dilakuakan running pada kolom tangging terapat regular expression seperti $, regular experssion tersebut selanjutnya akan dihilangkan dalam proses cleaning data"
   ]
  },
  {
   "cell_type": "code",
   "execution_count": 153,
   "metadata": {},
   "outputs": [],
   "source": [
    "# Kode di bawah digunakan untuk menghilangkan symbol $ yang terdapat pada kolom tagging\n",
    "df_media['tagging'] = df_media['tagging'].str.replace('$', '', regex=False)"
   ]
  },
  {
   "cell_type": "code",
   "execution_count": 154,
   "metadata": {},
   "outputs": [
    {
     "data": {
      "text/plain": [
       "'[{\"tag_id\": \"l33saH\", \"tag_name\": \"nathalie-holscher\", \"tag_slug\": \"nathalie-holscher\", \"status\": 1, \"created\": {\"date\": \"2021-11-22T02:32:04.404Z\"}, \"updateat\": {\"date\": \"0001-01-03T00:00:00.000Z\"}, \"backgroundimage\": \"\", \"tumbimage\": \"\", \"source\": 2}, {\"tag_id\": \"n3X0Hm\", \"tag_name\": \"sidang-cerai-nathalie-holscher\", \"tag_slug\": \"sidang-cerai-nathalie-holscher\", \"status\": 1, \"created\": {\"date\": \"2022-07-15T08:40:23.444Z\"}, \"updateat\": {\"date\": \"0001-01-03T00:00:00.000Z\"}, \"backgroundimage\": \"\", \"tumbimage\": \"\", \"source\": 2}, {\"tag_id\": \"EiUKlV\", \"tag_name\": \"perceraian-nathalie-holscher\", \"tag_slug\": \"perceraian-nathalie-holscher\", \"status\": 1, \"created\": {\"date\": \"2022-07-07T04:15:45.332Z\"}, \"updateat\": {\"date\": \"0001-01-03T00:00:00.000Z\"}, \"backgroundimage\": \"\", \"tumbimage\": \"\", \"source\": 2}, {\"tag_id\": \"eK7aRP\", \"tag_name\": \"sule\", \"tag_slug\": \"sule\", \"status\": 1, \"created\": {\"date\": \"2022-07-18T23:53:06.557Z\"}, \"updateat\": {\"date\": \"0001-01-03T00:00:00.000Z\"}, \"backgroundimage\": \"\", \"tumbimage\": \"\", \"source\": 2}, {\"tag_id\": \"jRTR9w\", \"tag_name\": \"nathalie-holscher-dan-sule\", \"tag_slug\": \"nathalie-holscher-dan-sule\", \"status\": 1, \"created\": {\"date\": \"2021-12-12T03:04:05.103Z\"}, \"updateat\": {\"date\": \"0001-01-03T00:00:00.000Z\"}, \"backgroundimage\": \"\", \"tumbimage\": \"\", \"source\": 2}]'"
      ]
     },
     "execution_count": 154,
     "metadata": {},
     "output_type": "execute_result"
    }
   ],
   "source": [
    "# Kode dibawah dijalankan untuk memperlihatkan bahwa symbol $ sudah tidak ada dalam kolom tagging\n",
    "df_media['tagging'][0]"
   ]
  },
  {
   "cell_type": "code",
   "execution_count": 155,
   "metadata": {},
   "outputs": [
    {
     "data": {
      "image/png": "[encoded data removed]",
      "text/plain": [
       "<Figure size 1152x288 with 1 Axes>"
      ]
     },
     "metadata": {
      "needs_background": "light"
     },
     "output_type": "display_data"
    }
   ],
   "source": [
    "# Kode dibawah digunakan untuk menampilkan barplot antara category_name dan category_id\n",
    "plt_1 = plt.figure(figsize=(16, 4))\n",
    "sns.barplot(x=df_media['category_id'],y=df_media['category_name'])\n",
    "plt.xticks(rotation='vertical')\n",
    "plt.show()"
   ]
  },
  {
   "cell_type": "code",
   "execution_count": 156,
   "metadata": {},
   "outputs": [
    {
     "data": {
      "image/png": "[encoded data removed]",
      "text/plain": [
       "<Figure size 720x432 with 1 Axes>"
      ]
     },
     "metadata": {},
     "output_type": "display_data"
    }
   ],
   "source": [
    "# Kode di bawah digunakan untuk menampilkan pie chart dari kategori acara MNC\n",
    "plt.figure(figsize=(10,6))\n",
    "plt.pie(df_media['category_name'].value_counts(), labels=df_media['category_name'].unique(), autopct='%.1f%%', textprops={'color':\"w\"})\n",
    "plt.legend(loc='upper right')\n",
    "plt.axis('equal')\n",
    "plt.show()"
   ]
  },
  {
   "cell_type": "markdown",
   "metadata": {},
   "source": [
    "Berdasarkan Pie Chart di atas dapat terlihat tiga kategori siaran yang memiiki porsi waktu paling besar adalah Hiburan yang berada di angka 13.4 %, Wisata dan kuliner yang berada di angka 12.4 % dan Olahraga yang berada di angka 10.2 %. Lebih lanjut persentasi terkecil ada di kategori budaya, dan Kebijakan Publik"
   ]
  },
  {
   "cell_type": "code",
   "execution_count": 157,
   "metadata": {},
   "outputs": [
    {
     "name": "stderr",
     "output_type": "stream",
     "text": [
      "/var/folders/2r/wbfg0gj94yz2vq2hskl8h_q00000gn/T/ipykernel_6248/819541519.py:3: FutureWarning:\n",
      "\n",
      "\n",
      "\n",
      "`shade` is now deprecated in favor of `fill`; setting `fill=True`.\n",
      "This will become an error in seaborn v0.14.0; please update your code.\n",
      "\n",
      "\n"
     ]
    },
    {
     "data": {
      "text/plain": [
       "<AxesSubplot: xlabel='category_id', ylabel='Density'>"
      ]
     },
     "execution_count": 157,
     "metadata": {},
     "output_type": "execute_result"
    },
    {
     "data": {
      "image/png": "[encoded data removed]",
      "text/plain": [
       "<Figure size 432x288 with 1 Axes>"
      ]
     },
     "metadata": {},
     "output_type": "display_data"
    }
   ],
   "source": [
    "# Kode di bawah digunakan untuk menampilakn distribusi data pada category_id\n",
    "sns.set(style=\"darkgrid\")\n",
    "sns.kdeplot(data=df_media['category_id'], shade=True)"
   ]
  },
  {
   "cell_type": "markdown",
   "metadata": {},
   "source": [
    "category_id adalah sebuah angka yang dibuat dengan urutan secara acak, pada gambar di atas dapat diperlihatkan bahwa category_id adalah angka yang dihasilkan secara acak dan terlihat tidak membentuk pola tertentu pada grafik distribusi di atas"
   ]
  },
  {
   "cell_type": "code",
   "execution_count": 158,
   "metadata": {},
   "outputs": [
    {
     "data": {
      "application/vnd.plotly.v1+json": {
       "config": {
        "plotlyServerURL": "https://plot.ly"
       },
       "data": [
        {
         "branchvalues": "total",
         "customdata": [
          [
           "Budaya",
           "Register User",
           "Budaya"
          ],
          [
           "Luxury",
           "Register User",
           "Luxury"
          ],
          [
           "Luxury",
           "Register User",
           "Luxury"
          ],
          [
           "Luxury",
           "Register User",
           "Luxury"
          ],
          [
           "Musik dan Film",
           "Register User",
           "Musik dan Film"
          ],
          [
           "Musik dan Film",
           "Register User",
           "Musik dan Film"
          ],
          [
           "Musik dan Film",
           "Register User",
           "Musik dan Film"
          ],
          [
           "Musik dan Film",
           "Register User",
           "Musik dan Film"
          ],
          [
           "Olahraga",
           "Register User",
           "Olahraga"
          ],
          [
           "Olahraga",
           "Register User",
           "Olahraga"
          ],
          [
           "Olahraga",
           "Register User",
           "Olahraga"
          ],
          [
           "Olahraga",
           "Register User",
           "Olahraga"
          ],
          [
           "Otomotif",
           "Register User",
           "Otomotif"
          ],
          [
           "Otomotif",
           "Register User",
           "Otomotif"
          ],
          [
           "Keuangan dan Bisnis",
           "Register User",
           "Keuangan dan Bisnis"
          ],
          [
           "Otomotif",
           "Register User",
           "Otomotif"
          ],
          [
           "Politik & Peristiwa",
           "Register User",
           "Politik & Peristiwa"
          ],
          [
           "Politik & Peristiwa",
           "Register User",
           "Politik & Peristiwa"
          ],
          [
           "Politik & Peristiwa",
           "Register User",
           "Politik & Peristiwa"
          ],
          [
           "Teknologi",
           "Register User",
           "Teknologi"
          ],
          [
           "Teknologi",
           "Register User",
           "Teknologi"
          ],
          [
           "Teknologi",
           "Register User",
           "Teknologi"
          ],
          [
           "Teknologi",
           "Register User",
           "Teknologi"
          ],
          [
           "Wisata dan Kuliner",
           "Register User",
           "Wisata dan Kuliner"
          ],
          [
           "Wisata dan Kuliner",
           "Register User",
           "Wisata dan Kuliner"
          ],
          [
           "Wisata dan Kuliner",
           "Register User",
           "Wisata dan Kuliner"
          ],
          [
           "Wisata dan Kuliner",
           "Register User",
           "Wisata dan Kuliner"
          ],
          [
           "(?)",
           "Register User",
           "(?)"
          ],
          [
           "(?)",
           "Register User",
           "(?)"
          ],
          [
           "Politik & Peristiwa",
           "Register User",
           "Politik & Peristiwa"
          ],
          [
           "Keuangan dan Bisnis",
           "Register User",
           "Keuangan dan Bisnis"
          ],
          [
           "Keuangan dan Bisnis",
           "Register User",
           "Keuangan dan Bisnis"
          ],
          [
           "Keuangan dan Bisnis",
           "Register User",
           "Keuangan dan Bisnis"
          ],
          [
           "Budaya",
           "Register User",
           "Budaya"
          ],
          [
           "Ekonomi",
           "Register User",
           "Ekonomi"
          ],
          [
           "Ekonomi",
           "Register User",
           "Ekonomi"
          ],
          [
           "Ekonomi",
           "Register User",
           "Ekonomi"
          ],
          [
           "Ekonomi",
           "Register User",
           "Ekonomi"
          ],
          [
           "Games",
           "Register User",
           "Games"
          ],
          [
           "Games",
           "Register User",
           "Games"
          ],
          [
           "Games",
           "Register User",
           "Games"
          ],
          [
           "Games",
           "Register User",
           "Games"
          ],
          [
           "Gawai",
           "Register User",
           "Gawai"
          ],
          [
           "Gawai",
           "Register User",
           "Gawai"
          ],
          [
           "Gawai",
           "Register User",
           "Gawai"
          ],
          [
           "Gaya Hidup",
           "Register User",
           "Gaya Hidup"
          ],
          [
           "Gaya Hidup",
           "Register User",
           "Gaya Hidup"
          ],
          [
           "Gaya Hidup",
           "Register User",
           "Gaya Hidup"
          ],
          [
           "Gaya Hidup",
           "Register User",
           "Gaya Hidup"
          ],
          [
           "Hiburan",
           "Register User",
           "Hiburan"
          ],
          [
           "Hiburan",
           "Register User",
           "Hiburan"
          ],
          [
           "Hiburan",
           "Register User",
           "Hiburan"
          ],
          [
           "Hiburan",
           "Register User",
           "Hiburan"
          ],
          [
           "Kebijakan Publik",
           "Register User",
           "Kebijakan Publik"
          ],
          [
           "Kebijakan Publik",
           "Register User",
           "Kebijakan Publik"
          ],
          [
           "Kebijakan Publik",
           "Register User",
           "Kebijakan Publik"
          ],
          [
           "Kebijakan Publik",
           "Register User",
           "Kebijakan Publik"
          ],
          [
           "Kecantikan",
           "Register User",
           "Kecantikan"
          ],
          [
           "Kecantikan",
           "Register User",
           "Kecantikan"
          ],
          [
           "Kesehatan",
           "Register User",
           "Kesehatan"
          ],
          [
           "Kesehatan",
           "Register User",
           "Kesehatan"
          ],
          [
           "Kesehatan",
           "Register User",
           "Kesehatan"
          ],
          [
           "(?)",
           "Register User",
           "(?)"
          ],
          [
           "(?)",
           "Register User",
           "(?)"
          ]
         ],
         "domain": {
          "x": [
           0,
           1
          ],
          "y": [
           0,
           1
          ]
         },
         "hovertemplate": "labels=%{label}<br>count=%{value}<br>parent=%{parent}<br>id=%{id}<br>category_name=%{customdata[2]}<br>user_type=%{customdata[1]}<extra></extra>",
         "ids": [
          "Female/Budaya",
          "Female/Luxury",
          "Male/Luxury",
          "male/Luxury",
          "Female/Musik dan Film",
          "Male/Musik dan Film",
          "female/Musik dan Film",
          "male/Musik dan Film",
          "Female/Olahraga",
          "Male/Olahraga",
          "female/Olahraga",
          "male/Olahraga",
          "Female/Otomotif",
          "Male/Otomotif",
          "male/Keuangan dan Bisnis",
          "male/Otomotif",
          "Male/Politik & Peristiwa",
          "female/Politik & Peristiwa",
          "male/Politik & Peristiwa",
          "Female/Teknologi",
          "Male/Teknologi",
          "female/Teknologi",
          "male/Teknologi",
          "Female/Wisata dan Kuliner",
          "Male/Wisata dan Kuliner",
          "female/Wisata dan Kuliner",
          "male/Wisata dan Kuliner",
          "Female",
          "Male",
          "Female/Politik & Peristiwa",
          "female/Keuangan dan Bisnis",
          "Male/Keuangan dan Bisnis",
          "Female/Keuangan dan Bisnis",
          "Male/Budaya",
          "Female/Ekonomi",
          "Male/Ekonomi",
          "female/Ekonomi",
          "male/Ekonomi",
          "Female/Games",
          "Male/Games",
          "female/Games",
          "male/Games",
          "Female/Gawai",
          "Male/Gawai",
          "male/Gawai",
          "Female/Gaya Hidup",
          "Male/Gaya Hidup",
          "female/Gaya Hidup",
          "male/Gaya Hidup",
          "Female/Hiburan",
          "Male/Hiburan",
          "female/Hiburan",
          "male/Hiburan",
          "Female/Kebijakan Publik",
          "Male/Kebijakan Publik",
          "female/Kebijakan Publik",
          "male/Kebijakan Publik",
          "Female/Kecantikan",
          "female/Kecantikan",
          "Male/Kesehatan",
          "female/Kesehatan",
          "male/Kesehatan",
          "female",
          "male"
         ],
         "labels": [
          "Budaya",
          "Luxury",
          "Luxury",
          "Luxury",
          "Musik dan Film",
          "Musik dan Film",
          "Musik dan Film",
          "Musik dan Film",
          "Olahraga",
          "Olahraga",
          "Olahraga",
          "Olahraga",
          "Otomotif",
          "Otomotif",
          "Keuangan dan Bisnis",
          "Otomotif",
          "Politik & Peristiwa",
          "Politik & Peristiwa",
          "Politik & Peristiwa",
          "Teknologi",
          "Teknologi",
          "Teknologi",
          "Teknologi",
          "Wisata dan Kuliner",
          "Wisata dan Kuliner",
          "Wisata dan Kuliner",
          "Wisata dan Kuliner",
          "Female",
          "Male",
          "Politik & Peristiwa",
          "Keuangan dan Bisnis",
          "Keuangan dan Bisnis",
          "Keuangan dan Bisnis",
          "Budaya",
          "Ekonomi",
          "Ekonomi",
          "Ekonomi",
          "Ekonomi",
          "Games",
          "Games",
          "Games",
          "Games",
          "Gawai",
          "Gawai",
          "Gawai",
          "Gaya Hidup",
          "Gaya Hidup",
          "Gaya Hidup",
          "Gaya Hidup",
          "Hiburan",
          "Hiburan",
          "Hiburan",
          "Hiburan",
          "Kebijakan Publik",
          "Kebijakan Publik",
          "Kebijakan Publik",
          "Kebijakan Publik",
          "Kecantikan",
          "Kecantikan",
          "Kesehatan",
          "Kesehatan",
          "Kesehatan",
          "female",
          "male"
         ],
         "marker": {
          "colors": [
           "#636efa",
           "#EF553B",
           "#EF553B",
           "#EF553B",
           "#00cc96",
           "#00cc96",
           "#00cc96",
           "#00cc96",
           "#ab63fa",
           "#ab63fa",
           "#ab63fa",
           "#ab63fa",
           "#FFA15A",
           "#FFA15A",
           "#19d3f3",
           "#FFA15A",
           "#FF6692",
           "#FF6692",
           "#FF6692",
           "#B6E880",
           "#B6E880",
           "#B6E880",
           "#B6E880",
           "#FF97FF",
           "#FF97FF",
           "#FF97FF",
           "#FF97FF",
           "#FECB52",
           "#FECB52",
           "#FF6692",
           "#19d3f3",
           "#19d3f3",
           "#19d3f3",
           "#636efa",
           "#636efa",
           "#636efa",
           "#636efa",
           "#636efa",
           "#EF553B",
           "#EF553B",
           "#EF553B",
           "#EF553B",
           "#00cc96",
           "#00cc96",
           "#00cc96",
           "#ab63fa",
           "#ab63fa",
           "#ab63fa",
           "#ab63fa",
           "#FFA15A",
           "#FFA15A",
           "#FFA15A",
           "#FFA15A",
           "#19d3f3",
           "#19d3f3",
           "#19d3f3",
           "#19d3f3",
           "#FF6692",
           "#FF6692",
           "#B6E880",
           "#B6E880",
           "#B6E880",
           "#FECB52",
           "#FECB52"
          ]
         },
         "name": "",
         "parents": [
          "Female",
          "Female",
          "Male",
          "male",
          "Female",
          "Male",
          "female",
          "male",
          "Female",
          "Male",
          "female",
          "male",
          "Female",
          "Male",
          "male",
          "male",
          "Male",
          "female",
          "male",
          "Female",
          "Male",
          "female",
          "male",
          "Female",
          "Male",
          "female",
          "male",
          "",
          "",
          "Female",
          "female",
          "Male",
          "Female",
          "Male",
          "Female",
          "Male",
          "female",
          "male",
          "Female",
          "Male",
          "female",
          "male",
          "Female",
          "Male",
          "male",
          "Female",
          "Male",
          "female",
          "male",
          "Female",
          "Male",
          "female",
          "male",
          "Female",
          "Male",
          "female",
          "male",
          "Female",
          "female",
          "Male",
          "female",
          "male",
          "",
          ""
         ],
         "type": "treemap",
         "values": [
          12,
          10,
          2,
          12,
          162,
          13,
          6,
          38,
          30,
          19,
          2,
          1,
          17,
          2,
          63,
          3,
          75,
          6,
          46,
          7,
          14,
          20,
          6,
          152,
          45,
          42,
          29,
          634,
          328,
          59,
          26,
          29,
          28,
          4,
          15,
          9,
          2,
          10,
          8,
          2,
          1,
          2,
          3,
          6,
          8,
          51,
          40,
          57,
          26,
          66,
          38,
          28,
          33,
          2,
          7,
          11,
          4,
          12,
          3,
          23,
          11,
          12,
          215,
          293
         ]
        }
       ],
       "layout": {
        "legend": {
         "tracegroupgap": 0
        },
        "margin": {
         "t": 60
        },
        "template": {
         "data": {
          "bar": [
           {
            "error_x": {
             "color": "#2a3f5f"
            },
            "error_y": {
             "color": "#2a3f5f"
            },
            "marker": {
             "line": {
              "color": "#E5ECF6",
              "width": 0.5
             },
             "pattern": {
              "fillmode": "overlay",
              "size": 10,
              "solidity": 0.2
             }
            },
            "type": "bar"
           }
          ],
          "barpolar": [
           {
            "marker": {
             "line": {
              "color": "#E5ECF6",
              "width": 0.5
             },
             "pattern": {
              "fillmode": "overlay",
              "size": 10,
              "solidity": 0.2
             }
            },
            "type": "barpolar"
           }
          ],
          "carpet": [
           {
            "aaxis": {
             "endlinecolor": "#2a3f5f",
             "gridcolor": "white",
             "linecolor": "white",
             "minorgridcolor": "white",
             "startlinecolor": "#2a3f5f"
            },
            "baxis": {
             "endlinecolor": "#2a3f5f",
             "gridcolor": "white",
             "linecolor": "white",
             "minorgridcolor": "white",
             "startlinecolor": "#2a3f5f"
            },
            "type": "carpet"
           }
          ],
          "choropleth": [
           {
            "colorbar": {
             "outlinewidth": 0,
             "ticks": ""
            },
            "type": "choropleth"
           }
          ],
          "contour": [
           {
            "colorbar": {
             "outlinewidth": 0,
             "ticks": ""
            },
            "colorscale": [
             [
              0,
              "#0d0887"
             ],
             [
              0.1111111111111111,
              "#46039f"
             ],
             [
              0.2222222222222222,
              "#7201a8"
             ],
             [
              0.3333333333333333,
              "#9c179e"
             ],
             [
              0.4444444444444444,
              "#bd3786"
             ],
             [
              0.5555555555555556,
              "#d8576b"
             ],
             [
              0.6666666666666666,
              "#ed7953"
             ],
             [
              0.7777777777777778,
              "#fb9f3a"
             ],
             [
              0.8888888888888888,
              "#fdca26"
             ],
             [
              1,
              "#f0f921"
             ]
            ],
            "type": "contour"
           }
          ],
          "contourcarpet": [
           {
            "colorbar": {
             "outlinewidth": 0,
             "ticks": ""
            },
            "type": "contourcarpet"
           }
          ],
          "heatmap": [
           {
            "colorbar": {
             "outlinewidth": 0,
             "ticks": ""
            },
            "colorscale": [
             [
              0,
              "#0d0887"
             ],
             [
              0.1111111111111111,
              "#46039f"
             ],
             [
              0.2222222222222222,
              "#7201a8"
             ],
             [
              0.3333333333333333,
              "#9c179e"
             ],
             [
              0.4444444444444444,
              "#bd3786"
             ],
             [
              0.5555555555555556,
              "#d8576b"
             ],
             [
              0.6666666666666666,
              "#ed7953"
             ],
             [
              0.7777777777777778,
              "#fb9f3a"
             ],
             [
              0.8888888888888888,
              "#fdca26"
             ],
             [
              1,
              "#f0f921"
             ]
            ],
            "type": "heatmap"
           }
          ],
          "heatmapgl": [
           {
            "colorbar": {
             "outlinewidth": 0,
             "ticks": ""
            },
            "colorscale": [
             [
              0,
              "#0d0887"
             ],
             [
              0.1111111111111111,
              "#46039f"
             ],
             [
              0.2222222222222222,
              "#7201a8"
             ],
             [
              0.3333333333333333,
              "#9c179e"
             ],
             [
              0.4444444444444444,
              "#bd3786"
             ],
             [
              0.5555555555555556,
              "#d8576b"
             ],
             [
              0.6666666666666666,
              "#ed7953"
             ],
             [
              0.7777777777777778,
              "#fb9f3a"
             ],
             [
              0.8888888888888888,
              "#fdca26"
             ],
             [
              1,
              "#f0f921"
             ]
            ],
            "type": "heatmapgl"
           }
          ],
          "histogram": [
           {
            "marker": {
             "pattern": {
              "fillmode": "overlay",
              "size": 10,
              "solidity": 0.2
             }
            },
            "type": "histogram"
           }
          ],
          "histogram2d": [
           {
            "colorbar": {
             "outlinewidth": 0,
             "ticks": ""
            },
            "colorscale": [
             [
              0,
              "#0d0887"
             ],
             [
              0.1111111111111111,
              "#46039f"
             ],
             [
              0.2222222222222222,
              "#7201a8"
             ],
             [
              0.3333333333333333,
              "#9c179e"
             ],
             [
              0.4444444444444444,
              "#bd3786"
             ],
             [
              0.5555555555555556,
              "#d8576b"
             ],
             [
              0.6666666666666666,
              "#ed7953"
             ],
             [
              0.7777777777777778,
              "#fb9f3a"
             ],
             [
              0.8888888888888888,
              "#fdca26"
             ],
             [
              1,
              "#f0f921"
             ]
            ],
            "type": "histogram2d"
           }
          ],
          "histogram2dcontour": [
           {
            "colorbar": {
             "outlinewidth": 0,
             "ticks": ""
            },
            "colorscale": [
             [
              0,
              "#0d0887"
             ],
             [
              0.1111111111111111,
              "#46039f"
             ],
             [
              0.2222222222222222,
              "#7201a8"
             ],
             [
              0.3333333333333333,
              "#9c179e"
             ],
             [
              0.4444444444444444,
              "#bd3786"
             ],
             [
              0.5555555555555556,
              "#d8576b"
             ],
             [
              0.6666666666666666,
              "#ed7953"
             ],
             [
              0.7777777777777778,
              "#fb9f3a"
             ],
             [
              0.8888888888888888,
              "#fdca26"
             ],
             [
              1,
              "#f0f921"
             ]
            ],
            "type": "histogram2dcontour"
           }
          ],
          "mesh3d": [
           {
            "colorbar": {
             "outlinewidth": 0,
             "ticks": ""
            },
            "type": "mesh3d"
           }
          ],
          "parcoords": [
           {
            "line": {
             "colorbar": {
              "outlinewidth": 0,
              "ticks": ""
             }
            },
            "type": "parcoords"
           }
          ],
          "pie": [
           {
            "automargin": true,
            "type": "pie"
           }
          ],
          "scatter": [
           {
            "fillpattern": {
             "fillmode": "overlay",
             "size": 10,
             "solidity": 0.2
            },
            "type": "scatter"
           }
          ],
          "scatter3d": [
           {
            "line": {
             "colorbar": {
              "outlinewidth": 0,
              "ticks": ""
             }
            },
            "marker": {
             "colorbar": {
              "outlinewidth": 0,
              "ticks": ""
             }
            },
            "type": "scatter3d"
           }
          ],
          "scattercarpet": [
           {
            "marker": {
             "colorbar": {
              "outlinewidth": 0,
              "ticks": ""
             }
            },
            "type": "scattercarpet"
           }
          ],
          "scattergeo": [
           {
            "marker": {
             "colorbar": {
              "outlinewidth": 0,
              "ticks": ""
             }
            },
            "type": "scattergeo"
           }
          ],
          "scattergl": [
           {
            "marker": {
             "colorbar": {
              "outlinewidth": 0,
              "ticks": ""
             }
            },
            "type": "scattergl"
           }
          ],
          "scattermapbox": [
           {
            "marker": {
             "colorbar": {
              "outlinewidth": 0,
              "ticks": ""
             }
            },
            "type": "scattermapbox"
           }
          ],
          "scatterpolar": [
           {
            "marker": {
             "colorbar": {
              "outlinewidth": 0,
              "ticks": ""
             }
            },
            "type": "scatterpolar"
           }
          ],
          "scatterpolargl": [
           {
            "marker": {
             "colorbar": {
              "outlinewidth": 0,
              "ticks": ""
             }
            },
            "type": "scatterpolargl"
           }
          ],
          "scatterternary": [
           {
            "marker": {
             "colorbar": {
              "outlinewidth": 0,
              "ticks": ""
             }
            },
            "type": "scatterternary"
           }
          ],
          "surface": [
           {
            "colorbar": {
             "outlinewidth": 0,
             "ticks": ""
            },
            "colorscale": [
             [
              0,
              "#0d0887"
             ],
             [
              0.1111111111111111,
              "#46039f"
             ],
             [
              0.2222222222222222,
              "#7201a8"
             ],
             [
              0.3333333333333333,
              "#9c179e"
             ],
             [
              0.4444444444444444,
              "#bd3786"
             ],
             [
              0.5555555555555556,
              "#d8576b"
             ],
             [
              0.6666666666666666,
              "#ed7953"
             ],
             [
              0.7777777777777778,
              "#fb9f3a"
             ],
             [
              0.8888888888888888,
              "#fdca26"
             ],
             [
              1,
              "#f0f921"
             ]
            ],
            "type": "surface"
           }
          ],
          "table": [
           {
            "cells": {
             "fill": {
              "color": "#EBF0F8"
             },
             "line": {
              "color": "white"
             }
            },
            "header": {
             "fill": {
              "color": "#C8D4E3"
             },
             "line": {
              "color": "white"
             }
            },
            "type": "table"
           }
          ]
         },
         "layout": {
          "annotationdefaults": {
           "arrowcolor": "#2a3f5f",
           "arrowhead": 0,
           "arrowwidth": 1
          },
          "autotypenumbers": "strict",
          "coloraxis": {
           "colorbar": {
            "outlinewidth": 0,
            "ticks": ""
           }
          },
          "colorscale": {
           "diverging": [
            [
             0,
             "#8e0152"
            ],
            [
             0.1,
             "#c51b7d"
            ],
            [
             0.2,
             "#de77ae"
            ],
            [
             0.3,
             "#f1b6da"
            ],
            [
             0.4,
             "#fde0ef"
            ],
            [
             0.5,
             "#f7f7f7"
            ],
            [
             0.6,
             "#e6f5d0"
            ],
            [
             0.7,
             "#b8e186"
            ],
            [
             0.8,
             "#7fbc41"
            ],
            [
             0.9,
             "#4d9221"
            ],
            [
             1,
             "#276419"
            ]
           ],
           "sequential": [
            [
             0,
             "#0d0887"
            ],
            [
             0.1111111111111111,
             "#46039f"
            ],
            [
             0.2222222222222222,
             "#7201a8"
            ],
            [
             0.3333333333333333,
             "#9c179e"
            ],
            [
             0.4444444444444444,
             "#bd3786"
            ],
            [
             0.5555555555555556,
             "#d8576b"
            ],
            [
             0.6666666666666666,
             "#ed7953"
            ],
            [
             0.7777777777777778,
             "#fb9f3a"
            ],
            [
             0.8888888888888888,
             "#fdca26"
            ],
            [
             1,
             "#f0f921"
            ]
           ],
           "sequentialminus": [
            [
             0,
             "#0d0887"
            ],
            [
             0.1111111111111111,
             "#46039f"
            ],
            [
             0.2222222222222222,
             "#7201a8"
            ],
            [
             0.3333333333333333,
             "#9c179e"
            ],
            [
             0.4444444444444444,
             "#bd3786"
            ],
            [
             0.5555555555555556,
             "#d8576b"
            ],
            [
             0.6666666666666666,
             "#ed7953"
            ],
            [
             0.7777777777777778,
             "#fb9f3a"
            ],
            [
             0.8888888888888888,
             "#fdca26"
            ],
            [
             1,
             "#f0f921"
            ]
           ]
          },
          "colorway": [
           "#636efa",
           "#EF553B",
           "#00cc96",
           "#ab63fa",
           "#FFA15A",
           "#19d3f3",
           "#FF6692",
           "#B6E880",
           "#FF97FF",
           "#FECB52"
          ],
          "font": {
           "color": "#2a3f5f"
          },
          "geo": {
           "bgcolor": "white",
           "lakecolor": "white",
           "landcolor": "#E5ECF6",
           "showlakes": true,
           "showland": true,
           "subunitcolor": "white"
          },
          "hoverlabel": {
           "align": "left"
          },
          "hovermode": "closest",
          "mapbox": {
           "style": "light"
          },
          "paper_bgcolor": "white",
          "plot_bgcolor": "#E5ECF6",
          "polar": {
           "angularaxis": {
            "gridcolor": "white",
            "linecolor": "white",
            "ticks": ""
           },
           "bgcolor": "#E5ECF6",
           "radialaxis": {
            "gridcolor": "white",
            "linecolor": "white",
            "ticks": ""
           }
          },
          "scene": {
           "xaxis": {
            "backgroundcolor": "#E5ECF6",
            "gridcolor": "white",
            "gridwidth": 2,
            "linecolor": "white",
            "showbackground": true,
            "ticks": "",
            "zerolinecolor": "white"
           },
           "yaxis": {
            "backgroundcolor": "#E5ECF6",
            "gridcolor": "white",
            "gridwidth": 2,
            "linecolor": "white",
            "showbackground": true,
            "ticks": "",
            "zerolinecolor": "white"
           },
           "zaxis": {
            "backgroundcolor": "#E5ECF6",
            "gridcolor": "white",
            "gridwidth": 2,
            "linecolor": "white",
            "showbackground": true,
            "ticks": "",
            "zerolinecolor": "white"
           }
          },
          "shapedefaults": {
           "line": {
            "color": "#2a3f5f"
           }
          },
          "ternary": {
           "aaxis": {
            "gridcolor": "white",
            "linecolor": "white",
            "ticks": ""
           },
           "baxis": {
            "gridcolor": "white",
            "linecolor": "white",
            "ticks": ""
           },
           "bgcolor": "#E5ECF6",
           "caxis": {
            "gridcolor": "white",
            "linecolor": "white",
            "ticks": ""
           }
          },
          "title": {
           "x": 0.05
          },
          "xaxis": {
           "automargin": true,
           "gridcolor": "white",
           "linecolor": "white",
           "ticks": "",
           "title": {
            "standoff": 15
           },
           "zerolinecolor": "white",
           "zerolinewidth": 2
          },
          "yaxis": {
           "automargin": true,
           "gridcolor": "white",
           "linecolor": "white",
           "ticks": "",
           "title": {
            "standoff": 15
           },
           "zerolinecolor": "white",
           "zerolinewidth": 2
          }
         }
        }
       }
      }
     },
     "metadata": {},
     "output_type": "display_data"
    }
   ],
   "source": [
    "# Kode di bawah dijalankan guna melihat preferensi viewers di wilayah DKI Jakarta\n",
    "mnc_fr=df_media[df_media['viewers_region']=='Jakarta']\n",
    "nannef=mnc_fr.dropna()\n",
    "import plotly.express as px\n",
    "fig = px.treemap(nannef, path=['viewers_gender','category_name'],\n",
    "                  color='category_name', hover_data=['category_name','user_type'],color_continuous_scale='Purples')\n",
    "fig.show()"
   ]
  },
  {
   "cell_type": "markdown",
   "metadata": {},
   "source": [
    "Preferensi viewers di kota Jakarta dipilih karena Jakarta adalah pusat ekonomi sehingga sangat masuk akal untuk melihat potensi bisnis apa saja yang masih bisa di kembangkan berdasarkan data preferensi siaran yang dipilih oleh customer di kota tersebut\n",
    "\n",
    "- Pada kelompok Female terlihat bahwa Musik dan Film, Wisata dan Kuliner adalah kategori siaran yang paling dominan dibandingkan kategori lainnya seperti Hiburan, dan Gaya Hidup\n",
    "- Pada kelompok Male terlihat bahwa Poltik & Peristiwa, Wisata & Kuliner, Gaya Hidup, dan Hiburan adalah kategori siaran yang paling dominan dibandingkan kategori siaran Kebijakan Publik, Gawai, dan Budaya\n",
    "- Pada kelompok male terlihat Keuangan dan Bisnis, Politik dan Peristiwa adalah kategori siaran yang paling dominan dibandingkan dengan kategori lainnya seperti Kebijakan Publik, Otomotif, dan Teknologi\n",
    "- Pada kelompok female terlihat Gaya hidup dan Wisata dan Kuliner adalah siaran yang paling dominan jika dibandingkan dengan siaran lainnya seperti Kesehatan, Politik dan Peristiwa, dan Musik dan Film"
   ]
  },
  {
   "cell_type": "markdown",
   "metadata": {},
   "source": [
    "Dilihat secara keseluruhan berdasarakan preferensi siaran pada Male, Female, male, dan female dapan terlihat perbedaan yang sangat distinctive dimana pada Female dua acara favorite utama adalah Musik dan Film dan Wisata dan Kuliner sedangkan untuk femal dua acara favorite utamanya adalah Gaya Hidup, dan Wisata dan Kuliner\n",
    "\n",
    "Untuk Male dan male keduanya sama-sama menyukai Politik & Peristiwa sebagai program favorite namun memilik preferensi berbeda untuk acara favorite lainnya dimana male lebih memilih melihat keuangan dan bisnis sedangan Male lebih memilih wisata dan kuliner."
   ]
  },
  {
   "cell_type": "code",
   "execution_count": 159,
   "metadata": {},
   "outputs": [
    {
     "data": {
      "text/plain": [
       "RangeIndex(start=0, stop=958547, step=1)"
      ]
     },
     "execution_count": 159,
     "metadata": {},
     "output_type": "execute_result"
    }
   ],
   "source": [
    "# Kode dibawah digunakan untuk melihat range data\n",
    "df_media['category_name'].keys()"
   ]
  },
  {
   "cell_type": "code",
   "execution_count": 160,
   "metadata": {},
   "outputs": [
    {
     "name": "stdout",
     "output_type": "stream",
     "text": [
      "<class 'pandas.core.frame.DataFrame'>\n",
      "RangeIndex: 958547 entries, 0 to 958546\n",
      "Data columns (total 12 columns):\n",
      " #   Column             Non-Null Count   Dtype  \n",
      "---  ------             --------------   -----  \n",
      " 0   Unnamed: 0         958547 non-null  int64  \n",
      " 1   viewers_id         958547 non-null  object \n",
      " 2   content_id         958547 non-null  object \n",
      " 3   hit_timestamp      958547 non-null  object \n",
      " 4   user_type          958547 non-null  object \n",
      " 5   category_id        958547 non-null  float64\n",
      " 6   tagging            920275 non-null  object \n",
      " 7   creator_id         958547 non-null  object \n",
      " 8   category_name      958547 non-null  object \n",
      " 9   viewers_birthdate  4115 non-null    object \n",
      " 10  viewers_gender     4115 non-null    object \n",
      " 11  viewers_region     3988 non-null    object \n",
      "dtypes: float64(1), int64(1), object(10)\n",
      "memory usage: 87.8+ MB\n"
     ]
    }
   ],
   "source": [
    "# Kode dibawah digunakan untuk melihat jenis data type pada setiap kolom dataset\n",
    "df_media.info()"
   ]
  },
  {
   "cell_type": "markdown",
   "metadata": {},
   "source": [
    "Informasi dari kode di atas digunakan untuk melihat kesesuaian apakah nama kolom sudah sesuai dengan jenis datanya atau ada beberapa data yang jenis datanya menampilkan anomali. Pada tabel di atas dapat terlihat category_id jenis datanya sudah tepat float64, dan yang lainnya adalah Object dimana hal ini sesuai karena nama kolom yang data type nya Object berisikan data dari column name categrical."
   ]
  },
  {
   "cell_type": "code",
   "execution_count": 161,
   "metadata": {},
   "outputs": [
    {
     "data": {
      "text/plain": [
       "array(['Hiburan', 'Wisata dan Kuliner', 'Olahraga', 'Gaya Hidup',\n",
       "       'Politik & Peristiwa', 'Kebijakan Publik', 'Teknologi',\n",
       "       'Keuangan dan Bisnis', 'Luxury', 'Ekonomi', 'Musik dan Film',\n",
       "       'Kesehatan', 'Games', 'Otomotif', 'Gawai', 'Kecantikan', 'Budaya',\n",
       "       'Humor'], dtype=object)"
      ]
     },
     "execution_count": 161,
     "metadata": {},
     "output_type": "execute_result"
    }
   ],
   "source": [
    "# Kode di bawah digunakan untuk melihat kategori apa saja yang terdapat pada kolom category_name\n",
    "df_media['category_name'].unique()"
   ]
  },
  {
   "cell_type": "code",
   "execution_count": 162,
   "metadata": {},
   "outputs": [
    {
     "data": {
      "text/plain": [
       "Index(['Unnamed: 0', 'viewers_id', 'content_id', 'hit_timestamp', 'user_type',\n",
       "       'category_id', 'tagging', 'creator_id', 'category_name',\n",
       "       'viewers_birthdate', 'viewers_gender', 'viewers_region'],\n",
       "      dtype='object')"
      ]
     },
     "execution_count": 162,
     "metadata": {},
     "output_type": "execute_result"
    }
   ],
   "source": [
    "# Kode di bawah digunakan untuk melihat kolom apa saja yang terdapat pada dataset\n",
    "df_media.columns"
   ]
  },
  {
   "cell_type": "code",
   "execution_count": 164,
   "metadata": {},
   "outputs": [
    {
     "data": {
      "text/html": [
       "<div>\n",
       "<style scoped>\n",
       "    .dataframe tbody tr th:only-of-type {\n",
       "        vertical-align: middle;\n",
       "    }\n",
       "\n",
       "    .dataframe tbody tr th {\n",
       "        vertical-align: top;\n",
       "    }\n",
       "\n",
       "    .dataframe thead th {\n",
       "        text-align: right;\n",
       "    }\n",
       "</style>\n",
       "<table border=\"1\" class=\"dataframe\">\n",
       "  <thead>\n",
       "    <tr style=\"text-align: right;\">\n",
       "      <th></th>\n",
       "      <th>category_id</th>\n",
       "      <th>Unnamed: 0</th>\n",
       "      <th>viewers_id</th>\n",
       "      <th>content_id</th>\n",
       "      <th>hit_timestamp</th>\n",
       "      <th>user_type</th>\n",
       "      <th>tagging</th>\n",
       "      <th>creator_id</th>\n",
       "      <th>category_name</th>\n",
       "      <th>viewers_birthdate</th>\n",
       "      <th>viewers_gender</th>\n",
       "      <th>viewers_region</th>\n",
       "    </tr>\n",
       "  </thead>\n",
       "  <tbody>\n",
       "    <tr>\n",
       "      <th>0</th>\n",
       "      <td>23.0</td>\n",
       "      <td>0</td>\n",
       "      <td>UN-RY8dNmQ</td>\n",
       "      <td>OC0RuX</td>\n",
       "      <td>2022-07-30</td>\n",
       "      <td>Anonymus User</td>\n",
       "      <td>[{\"tag_id\": \"l33saH\", \"tag_name\": \"nathalie-ho...</td>\n",
       "      <td>99jY83</td>\n",
       "      <td>Hiburan</td>\n",
       "      <td>NaN</td>\n",
       "      <td>NaN</td>\n",
       "      <td>NaN</td>\n",
       "    </tr>\n",
       "    <tr>\n",
       "      <th>1</th>\n",
       "      <td>23.0</td>\n",
       "      <td>1</td>\n",
       "      <td>UN-RY8dNmQ</td>\n",
       "      <td>OC0RuX</td>\n",
       "      <td>2022-07-30</td>\n",
       "      <td>Anonymus User</td>\n",
       "      <td>[{\"tag_id\": \"l33saH\", \"tag_name\": \"nathalie-ho...</td>\n",
       "      <td>99jY83</td>\n",
       "      <td>Hiburan</td>\n",
       "      <td>NaN</td>\n",
       "      <td>NaN</td>\n",
       "      <td>NaN</td>\n",
       "    </tr>\n",
       "    <tr>\n",
       "      <th>2</th>\n",
       "      <td>23.0</td>\n",
       "      <td>2</td>\n",
       "      <td>UN-b1g5Cc6</td>\n",
       "      <td>EsWkCd</td>\n",
       "      <td>2022-07-31</td>\n",
       "      <td>Anonymus User</td>\n",
       "      <td>[{\"tag_id\": \"Tw9Th4\", \"tag_name\": \"deddy-corbu...</td>\n",
       "      <td>99jY83</td>\n",
       "      <td>Hiburan</td>\n",
       "      <td>NaN</td>\n",
       "      <td>NaN</td>\n",
       "      <td>NaN</td>\n",
       "    </tr>\n",
       "    <tr>\n",
       "      <th>3</th>\n",
       "      <td>23.0</td>\n",
       "      <td>3</td>\n",
       "      <td>UN-b1g5Cc6</td>\n",
       "      <td>EsWkCd</td>\n",
       "      <td>2022-07-31</td>\n",
       "      <td>Anonymus User</td>\n",
       "      <td>[{\"tag_id\": \"Tw9Th4\", \"tag_name\": \"deddy-corbu...</td>\n",
       "      <td>99jY83</td>\n",
       "      <td>Hiburan</td>\n",
       "      <td>NaN</td>\n",
       "      <td>NaN</td>\n",
       "      <td>NaN</td>\n",
       "    </tr>\n",
       "    <tr>\n",
       "      <th>4</th>\n",
       "      <td>23.0</td>\n",
       "      <td>4</td>\n",
       "      <td>UN-kNqX0xJ</td>\n",
       "      <td>WMKZwi</td>\n",
       "      <td>2022-07-31</td>\n",
       "      <td>Anonymus User</td>\n",
       "      <td>[{\"tag_id\": \"MSDG2f\", \"tag_name\": \"valencia-ta...</td>\n",
       "      <td>99jY83</td>\n",
       "      <td>Hiburan</td>\n",
       "      <td>NaN</td>\n",
       "      <td>NaN</td>\n",
       "      <td>NaN</td>\n",
       "    </tr>\n",
       "  </tbody>\n",
       "</table>\n",
       "</div>"
      ],
      "text/plain": [
       "   category_id  Unnamed: 0  viewers_id content_id hit_timestamp  \\\n",
       "0         23.0           0  UN-RY8dNmQ     OC0RuX    2022-07-30   \n",
       "1         23.0           1  UN-RY8dNmQ     OC0RuX    2022-07-30   \n",
       "2         23.0           2  UN-b1g5Cc6     EsWkCd    2022-07-31   \n",
       "3         23.0           3  UN-b1g5Cc6     EsWkCd    2022-07-31   \n",
       "4         23.0           4  UN-kNqX0xJ     WMKZwi    2022-07-31   \n",
       "\n",
       "       user_type                                            tagging  \\\n",
       "0  Anonymus User  [{\"tag_id\": \"l33saH\", \"tag_name\": \"nathalie-ho...   \n",
       "1  Anonymus User  [{\"tag_id\": \"l33saH\", \"tag_name\": \"nathalie-ho...   \n",
       "2  Anonymus User  [{\"tag_id\": \"Tw9Th4\", \"tag_name\": \"deddy-corbu...   \n",
       "3  Anonymus User  [{\"tag_id\": \"Tw9Th4\", \"tag_name\": \"deddy-corbu...   \n",
       "4  Anonymus User  [{\"tag_id\": \"MSDG2f\", \"tag_name\": \"valencia-ta...   \n",
       "\n",
       "  creator_id category_name viewers_birthdate viewers_gender viewers_region  \n",
       "0     99jY83       Hiburan               NaN            NaN            NaN  \n",
       "1     99jY83       Hiburan               NaN            NaN            NaN  \n",
       "2     99jY83       Hiburan               NaN            NaN            NaN  \n",
       "3     99jY83       Hiburan               NaN            NaN            NaN  \n",
       "4     99jY83       Hiburan               NaN            NaN            NaN  "
      ]
     },
     "execution_count": 164,
     "metadata": {},
     "output_type": "execute_result"
    }
   ],
   "source": [
    "df_mnc = df_media[['category_id','Unnamed: 0', 'viewers_id', 'content_id', 'hit_timestamp', 'user_type',\n",
    "'tagging', 'creator_id', 'category_name','viewers_birthdate', 'viewers_gender', 'viewers_region']]\n",
    "df_mnc.head(5)"
   ]
  },
  {
   "cell_type": "markdown",
   "metadata": {},
   "source": [
    "Kode di atas dibuat sebagai data copy sehingga jika ada modifikasi data tidak perlu untuk melakukan load dataset dari awal"
   ]
  },
  {
   "cell_type": "code",
   "execution_count": 114,
   "metadata": {},
   "outputs": [
    {
     "data": {
      "text/plain": [
       "954432"
      ]
     },
     "execution_count": 114,
     "metadata": {},
     "output_type": "execute_result"
    }
   ],
   "source": [
    "df_mnc['viewers_birthdate'].isnull().values.sum()"
   ]
  },
  {
   "cell_type": "code",
   "execution_count": 115,
   "metadata": {},
   "outputs": [
    {
     "data": {
      "text/plain": [
       "0                NaN\n",
       "1                NaN\n",
       "2                NaN\n",
       "3                NaN\n",
       "4                NaN\n",
       "             ...    \n",
       "958542    1987-11-05\n",
       "958543           NaN\n",
       "958544    1987-11-05\n",
       "958545           NaN\n",
       "958546           NaN\n",
       "Name: viewers_birthdate, Length: 958547, dtype: object"
      ]
     },
     "execution_count": 115,
     "metadata": {},
     "output_type": "execute_result"
    }
   ],
   "source": [
    "df_mnc['viewers_birthdate']"
   ]
  },
  {
   "cell_type": "markdown",
   "metadata": {},
   "source": [
    "Dua kode blok di atas menjelaskan bahwa jumlah Nan yang terdapat pada kolom viewers_birthdate sangat signifikan dimana terdapat 9.54.432 NaN dari 9.58.547 baris dataset yang ada."
   ]
  },
  {
   "cell_type": "code",
   "execution_count": 117,
   "metadata": {},
   "outputs": [
    {
     "data": {
      "text/plain": [
       "954432"
      ]
     },
     "execution_count": 117,
     "metadata": {},
     "output_type": "execute_result"
    }
   ],
   "source": [
    "df_mnc['viewers_gender'].isnull().values.sum()"
   ]
  },
  {
   "cell_type": "code",
   "execution_count": 118,
   "metadata": {},
   "outputs": [
    {
     "data": {
      "text/plain": [
       "0          NaN\n",
       "1          NaN\n",
       "2          NaN\n",
       "3          NaN\n",
       "4          NaN\n",
       "          ... \n",
       "958542    Male\n",
       "958543     NaN\n",
       "958544    Male\n",
       "958545     NaN\n",
       "958546     NaN\n",
       "Name: viewers_gender, Length: 958547, dtype: object"
      ]
     },
     "execution_count": 118,
     "metadata": {},
     "output_type": "execute_result"
    }
   ],
   "source": [
    "df_mnc['viewers_gender']"
   ]
  },
  {
   "cell_type": "markdown",
   "metadata": {},
   "source": [
    "Dua kode blok di atas menjelaskan jumlah NaN yang terdapat pada kolom viewers_gender sangat signifikan dimana terdapat 954432 NaN dari 958547 baris dataset yang ada"
   ]
  },
  {
   "cell_type": "code",
   "execution_count": 119,
   "metadata": {},
   "outputs": [
    {
     "data": {
      "text/plain": [
       "954559"
      ]
     },
     "execution_count": 119,
     "metadata": {},
     "output_type": "execute_result"
    }
   ],
   "source": [
    "df_mnc['viewers_region'].isnull().values.sum()"
   ]
  },
  {
   "cell_type": "code",
   "execution_count": 120,
   "metadata": {},
   "outputs": [
    {
     "data": {
      "text/plain": [
       "0             NaN\n",
       "1             NaN\n",
       "2             NaN\n",
       "3             NaN\n",
       "4             NaN\n",
       "           ...   \n",
       "958542    Jakarta\n",
       "958543        NaN\n",
       "958544    Jakarta\n",
       "958545        NaN\n",
       "958546        NaN\n",
       "Name: viewers_region, Length: 958547, dtype: object"
      ]
     },
     "execution_count": 120,
     "metadata": {},
     "output_type": "execute_result"
    }
   ],
   "source": [
    "df_mnc['viewers_region']"
   ]
  },
  {
   "cell_type": "code",
   "execution_count": 165,
   "metadata": {},
   "outputs": [
    {
     "data": {
      "text/plain": [
       "954559"
      ]
     },
     "execution_count": 165,
     "metadata": {},
     "output_type": "execute_result"
    }
   ],
   "source": [
    "df_mnc['viewers_region'].isnull().values.sum()"
   ]
  },
  {
   "cell_type": "markdown",
   "metadata": {},
   "source": [
    "Dua kode blok di atas menjelaskan jumlah NaN yang terdapat pada kolom viewers_region sangat signifikan dimana terdapat 954559 NaN dari 958547 baris dataset yang ada"
   ]
  },
  {
   "cell_type": "markdown",
   "metadata": {},
   "source": [
    "## Feature Selection"
   ]
  },
  {
   "cell_type": "markdown",
   "metadata": {},
   "source": [
    "Setelah dilakukan ektraksi informasi dari kolom-kolom yang ada pada MNC dataset di pilih tiga kolom yang informasinya masih bisa di ekstraksi lebih lanjut dengan menggunakan model machine learning"
   ]
  },
  {
   "cell_type": "code",
   "execution_count": 126,
   "metadata": {},
   "outputs": [
    {
     "data": {
      "text/html": [
       "<div>\n",
       "<style scoped>\n",
       "    .dataframe tbody tr th:only-of-type {\n",
       "        vertical-align: middle;\n",
       "    }\n",
       "\n",
       "    .dataframe tbody tr th {\n",
       "        vertical-align: top;\n",
       "    }\n",
       "\n",
       "    .dataframe thead th {\n",
       "        text-align: right;\n",
       "    }\n",
       "</style>\n",
       "<table border=\"1\" class=\"dataframe\">\n",
       "  <thead>\n",
       "    <tr style=\"text-align: right;\">\n",
       "      <th></th>\n",
       "      <th>hit_timestamp</th>\n",
       "      <th>category_name</th>\n",
       "      <th>tagging</th>\n",
       "    </tr>\n",
       "  </thead>\n",
       "  <tbody>\n",
       "    <tr>\n",
       "      <th>0</th>\n",
       "      <td>2022-07-30</td>\n",
       "      <td>Hiburan</td>\n",
       "      <td>[{\"tag_id\": \"l33saH\", \"tag_name\": \"nathalie-ho...</td>\n",
       "    </tr>\n",
       "    <tr>\n",
       "      <th>1</th>\n",
       "      <td>2022-07-30</td>\n",
       "      <td>Hiburan</td>\n",
       "      <td>[{\"tag_id\": \"l33saH\", \"tag_name\": \"nathalie-ho...</td>\n",
       "    </tr>\n",
       "    <tr>\n",
       "      <th>2</th>\n",
       "      <td>2022-07-31</td>\n",
       "      <td>Hiburan</td>\n",
       "      <td>[{\"tag_id\": \"Tw9Th4\", \"tag_name\": \"deddy-corbu...</td>\n",
       "    </tr>\n",
       "    <tr>\n",
       "      <th>3</th>\n",
       "      <td>2022-07-31</td>\n",
       "      <td>Hiburan</td>\n",
       "      <td>[{\"tag_id\": \"Tw9Th4\", \"tag_name\": \"deddy-corbu...</td>\n",
       "    </tr>\n",
       "    <tr>\n",
       "      <th>4</th>\n",
       "      <td>2022-07-31</td>\n",
       "      <td>Hiburan</td>\n",
       "      <td>[{\"tag_id\": \"MSDG2f\", \"tag_name\": \"valencia-ta...</td>\n",
       "    </tr>\n",
       "    <tr>\n",
       "      <th>...</th>\n",
       "      <td>...</td>\n",
       "      <td>...</td>\n",
       "      <td>...</td>\n",
       "    </tr>\n",
       "    <tr>\n",
       "      <th>958542</th>\n",
       "      <td>2022-08-29</td>\n",
       "      <td>Humor</td>\n",
       "      <td>NaN</td>\n",
       "    </tr>\n",
       "    <tr>\n",
       "      <th>958543</th>\n",
       "      <td>2022-08-29</td>\n",
       "      <td>Humor</td>\n",
       "      <td>NaN</td>\n",
       "    </tr>\n",
       "    <tr>\n",
       "      <th>958544</th>\n",
       "      <td>2022-08-29</td>\n",
       "      <td>Humor</td>\n",
       "      <td>NaN</td>\n",
       "    </tr>\n",
       "    <tr>\n",
       "      <th>958545</th>\n",
       "      <td>2022-08-12</td>\n",
       "      <td>Humor</td>\n",
       "      <td>[{\"tag_id\": \"D5mK4C\", \"tag_name\": \"dunia-polit...</td>\n",
       "    </tr>\n",
       "    <tr>\n",
       "      <th>958546</th>\n",
       "      <td>2022-08-12</td>\n",
       "      <td>Humor</td>\n",
       "      <td>[{\"tag_id\": \"D5mK4C\", \"tag_name\": \"dunia-polit...</td>\n",
       "    </tr>\n",
       "  </tbody>\n",
       "</table>\n",
       "<p>958547 rows × 3 columns</p>\n",
       "</div>"
      ],
      "text/plain": [
       "       hit_timestamp category_name  \\\n",
       "0         2022-07-30       Hiburan   \n",
       "1         2022-07-30       Hiburan   \n",
       "2         2022-07-31       Hiburan   \n",
       "3         2022-07-31       Hiburan   \n",
       "4         2022-07-31       Hiburan   \n",
       "...              ...           ...   \n",
       "958542    2022-08-29         Humor   \n",
       "958543    2022-08-29         Humor   \n",
       "958544    2022-08-29         Humor   \n",
       "958545    2022-08-12         Humor   \n",
       "958546    2022-08-12         Humor   \n",
       "\n",
       "                                                  tagging  \n",
       "0       [{\"tag_id\": \"l33saH\", \"tag_name\": \"nathalie-ho...  \n",
       "1       [{\"tag_id\": \"l33saH\", \"tag_name\": \"nathalie-ho...  \n",
       "2       [{\"tag_id\": \"Tw9Th4\", \"tag_name\": \"deddy-corbu...  \n",
       "3       [{\"tag_id\": \"Tw9Th4\", \"tag_name\": \"deddy-corbu...  \n",
       "4       [{\"tag_id\": \"MSDG2f\", \"tag_name\": \"valencia-ta...  \n",
       "...                                                   ...  \n",
       "958542                                                NaN  \n",
       "958543                                                NaN  \n",
       "958544                                                NaN  \n",
       "958545  [{\"tag_id\": \"D5mK4C\", \"tag_name\": \"dunia-polit...  \n",
       "958546  [{\"tag_id\": \"D5mK4C\", \"tag_name\": \"dunia-polit...  \n",
       "\n",
       "[958547 rows x 3 columns]"
      ]
     },
     "execution_count": 126,
     "metadata": {},
     "output_type": "execute_result"
    }
   ],
   "source": [
    "df_copy = df_mnc[['hit_timestamp','category_name','tagging']]\n",
    "df_copy"
   ]
  },
  {
   "cell_type": "code",
   "execution_count": 127,
   "metadata": {},
   "outputs": [
    {
     "data": {
      "text/plain": [
       "'2022-07-30'"
      ]
     },
     "execution_count": 127,
     "metadata": {},
     "output_type": "execute_result"
    }
   ],
   "source": [
    "df_copy['hit_timestamp'].min()"
   ]
  },
  {
   "cell_type": "code",
   "execution_count": 128,
   "metadata": {},
   "outputs": [
    {
     "data": {
      "text/plain": [
       "'2022-11-13'"
      ]
     },
     "execution_count": 128,
     "metadata": {},
     "output_type": "execute_result"
    }
   ],
   "source": [
    "df_copy['hit_timestamp'].max()"
   ]
  },
  {
   "cell_type": "markdown",
   "metadata": {},
   "source": [
    "## Creating Data Inference"
   ]
  },
  {
   "cell_type": "code",
   "execution_count": 129,
   "metadata": {},
   "outputs": [
    {
     "data": {
      "text/html": [
       "<div>\n",
       "<style scoped>\n",
       "    .dataframe tbody tr th:only-of-type {\n",
       "        vertical-align: middle;\n",
       "    }\n",
       "\n",
       "    .dataframe tbody tr th {\n",
       "        vertical-align: top;\n",
       "    }\n",
       "\n",
       "    .dataframe thead th {\n",
       "        text-align: right;\n",
       "    }\n",
       "</style>\n",
       "<table border=\"1\" class=\"dataframe\">\n",
       "  <thead>\n",
       "    <tr style=\"text-align: right;\">\n",
       "      <th></th>\n",
       "      <th>hit_timestamp</th>\n",
       "      <th>category_name</th>\n",
       "      <th>tagging</th>\n",
       "    </tr>\n",
       "  </thead>\n",
       "  <tbody>\n",
       "    <tr>\n",
       "      <th>676611</th>\n",
       "      <td>2022-08-15</td>\n",
       "      <td>Luxury</td>\n",
       "      <td>NaN</td>\n",
       "    </tr>\n",
       "    <tr>\n",
       "      <th>897234</th>\n",
       "      <td>2022-08-18</td>\n",
       "      <td>Otomotif</td>\n",
       "      <td>[{\"tag_id\": \"cU7db3\", \"tag_name\": \"ferrari\", \"...</td>\n",
       "    </tr>\n",
       "    <tr>\n",
       "      <th>728119</th>\n",
       "      <td>2022-08-16</td>\n",
       "      <td>Musik dan Film</td>\n",
       "      <td>[{\"tag_id\": \"Braqsn\", \"tag_name\": \"series\", \"t...</td>\n",
       "    </tr>\n",
       "    <tr>\n",
       "      <th>737449</th>\n",
       "      <td>2022-08-19</td>\n",
       "      <td>Musik dan Film</td>\n",
       "      <td>[{\"tag_id\": \"f92f4044f79d402db9042a3c5b441a81\"...</td>\n",
       "    </tr>\n",
       "    <tr>\n",
       "      <th>675579</th>\n",
       "      <td>2022-11-12</td>\n",
       "      <td>Luxury</td>\n",
       "      <td>[{\"tag_id\": \"EsG8NE\", \"tag_name\": \"kehilangan-...</td>\n",
       "    </tr>\n",
       "  </tbody>\n",
       "</table>\n",
       "</div>"
      ],
      "text/plain": [
       "       hit_timestamp   category_name  \\\n",
       "676611    2022-08-15          Luxury   \n",
       "897234    2022-08-18        Otomotif   \n",
       "728119    2022-08-16  Musik dan Film   \n",
       "737449    2022-08-19  Musik dan Film   \n",
       "675579    2022-11-12          Luxury   \n",
       "\n",
       "                                                  tagging  \n",
       "676611                                                NaN  \n",
       "897234  [{\"tag_id\": \"cU7db3\", \"tag_name\": \"ferrari\", \"...  \n",
       "728119  [{\"tag_id\": \"Braqsn\", \"tag_name\": \"series\", \"t...  \n",
       "737449  [{\"tag_id\": \"f92f4044f79d402db9042a3c5b441a81\"...  \n",
       "675579  [{\"tag_id\": \"EsG8NE\", \"tag_name\": \"kehilangan-...  "
      ]
     },
     "execution_count": 129,
     "metadata": {},
     "output_type": "execute_result"
    }
   ],
   "source": [
    "data_inf = df_copy.sample(10, random_state=17)\n",
    "data_inf.head(5)"
   ]
  },
  {
   "cell_type": "code",
   "execution_count": 130,
   "metadata": {},
   "outputs": [
    {
     "data": {
      "text/html": [
       "<div>\n",
       "<style scoped>\n",
       "    .dataframe tbody tr th:only-of-type {\n",
       "        vertical-align: middle;\n",
       "    }\n",
       "\n",
       "    .dataframe tbody tr th {\n",
       "        vertical-align: top;\n",
       "    }\n",
       "\n",
       "    .dataframe thead th {\n",
       "        text-align: right;\n",
       "    }\n",
       "</style>\n",
       "<table border=\"1\" class=\"dataframe\">\n",
       "  <thead>\n",
       "    <tr style=\"text-align: right;\">\n",
       "      <th></th>\n",
       "      <th>hit_timestamp</th>\n",
       "      <th>category_name</th>\n",
       "      <th>tagging</th>\n",
       "    </tr>\n",
       "  </thead>\n",
       "  <tbody>\n",
       "    <tr>\n",
       "      <th>0</th>\n",
       "      <td>2022-07-30</td>\n",
       "      <td>Hiburan</td>\n",
       "      <td>[{\"tag_id\": \"l33saH\", \"tag_name\": \"nathalie-ho...</td>\n",
       "    </tr>\n",
       "    <tr>\n",
       "      <th>1</th>\n",
       "      <td>2022-07-30</td>\n",
       "      <td>Hiburan</td>\n",
       "      <td>[{\"tag_id\": \"l33saH\", \"tag_name\": \"nathalie-ho...</td>\n",
       "    </tr>\n",
       "    <tr>\n",
       "      <th>2</th>\n",
       "      <td>2022-07-31</td>\n",
       "      <td>Hiburan</td>\n",
       "      <td>[{\"tag_id\": \"Tw9Th4\", \"tag_name\": \"deddy-corbu...</td>\n",
       "    </tr>\n",
       "    <tr>\n",
       "      <th>3</th>\n",
       "      <td>2022-07-31</td>\n",
       "      <td>Hiburan</td>\n",
       "      <td>[{\"tag_id\": \"Tw9Th4\", \"tag_name\": \"deddy-corbu...</td>\n",
       "    </tr>\n",
       "    <tr>\n",
       "      <th>4</th>\n",
       "      <td>2022-07-31</td>\n",
       "      <td>Hiburan</td>\n",
       "      <td>[{\"tag_id\": \"MSDG2f\", \"tag_name\": \"valencia-ta...</td>\n",
       "    </tr>\n",
       "  </tbody>\n",
       "</table>\n",
       "</div>"
      ],
      "text/plain": [
       "  hit_timestamp category_name  \\\n",
       "0    2022-07-30       Hiburan   \n",
       "1    2022-07-30       Hiburan   \n",
       "2    2022-07-31       Hiburan   \n",
       "3    2022-07-31       Hiburan   \n",
       "4    2022-07-31       Hiburan   \n",
       "\n",
       "                                             tagging  \n",
       "0  [{\"tag_id\": \"l33saH\", \"tag_name\": \"nathalie-ho...  \n",
       "1  [{\"tag_id\": \"l33saH\", \"tag_name\": \"nathalie-ho...  \n",
       "2  [{\"tag_id\": \"Tw9Th4\", \"tag_name\": \"deddy-corbu...  \n",
       "3  [{\"tag_id\": \"Tw9Th4\", \"tag_name\": \"deddy-corbu...  \n",
       "4  [{\"tag_id\": \"MSDG2f\", \"tag_name\": \"valencia-ta...  "
      ]
     },
     "execution_count": 130,
     "metadata": {},
     "output_type": "execute_result"
    }
   ],
   "source": [
    "data_train_test = df_copy.drop(data_inf.index)\n",
    "data_train_test.head(5)"
   ]
  },
  {
   "cell_type": "code",
   "execution_count": 131,
   "metadata": {},
   "outputs": [
    {
     "data": {
      "text/html": [
       "<div>\n",
       "<style scoped>\n",
       "    .dataframe tbody tr th:only-of-type {\n",
       "        vertical-align: middle;\n",
       "    }\n",
       "\n",
       "    .dataframe tbody tr th {\n",
       "        vertical-align: top;\n",
       "    }\n",
       "\n",
       "    .dataframe thead th {\n",
       "        text-align: right;\n",
       "    }\n",
       "</style>\n",
       "<table border=\"1\" class=\"dataframe\">\n",
       "  <thead>\n",
       "    <tr style=\"text-align: right;\">\n",
       "      <th></th>\n",
       "      <th>hit_timestamp</th>\n",
       "      <th>category_name</th>\n",
       "      <th>tagging</th>\n",
       "    </tr>\n",
       "  </thead>\n",
       "  <tbody>\n",
       "    <tr>\n",
       "      <th>0</th>\n",
       "      <td>2022-08-15</td>\n",
       "      <td>Luxury</td>\n",
       "      <td>NaN</td>\n",
       "    </tr>\n",
       "    <tr>\n",
       "      <th>1</th>\n",
       "      <td>2022-08-18</td>\n",
       "      <td>Otomotif</td>\n",
       "      <td>[{\"tag_id\": \"cU7db3\", \"tag_name\": \"ferrari\", \"...</td>\n",
       "    </tr>\n",
       "    <tr>\n",
       "      <th>2</th>\n",
       "      <td>2022-08-16</td>\n",
       "      <td>Musik dan Film</td>\n",
       "      <td>[{\"tag_id\": \"Braqsn\", \"tag_name\": \"series\", \"t...</td>\n",
       "    </tr>\n",
       "    <tr>\n",
       "      <th>3</th>\n",
       "      <td>2022-08-19</td>\n",
       "      <td>Musik dan Film</td>\n",
       "      <td>[{\"tag_id\": \"f92f4044f79d402db9042a3c5b441a81\"...</td>\n",
       "    </tr>\n",
       "    <tr>\n",
       "      <th>4</th>\n",
       "      <td>2022-11-12</td>\n",
       "      <td>Luxury</td>\n",
       "      <td>[{\"tag_id\": \"EsG8NE\", \"tag_name\": \"kehilangan-...</td>\n",
       "    </tr>\n",
       "  </tbody>\n",
       "</table>\n",
       "</div>"
      ],
      "text/plain": [
       "  hit_timestamp   category_name  \\\n",
       "0    2022-08-15          Luxury   \n",
       "1    2022-08-18        Otomotif   \n",
       "2    2022-08-16  Musik dan Film   \n",
       "3    2022-08-19  Musik dan Film   \n",
       "4    2022-11-12          Luxury   \n",
       "\n",
       "                                             tagging  \n",
       "0                                                NaN  \n",
       "1  [{\"tag_id\": \"cU7db3\", \"tag_name\": \"ferrari\", \"...  \n",
       "2  [{\"tag_id\": \"Braqsn\", \"tag_name\": \"series\", \"t...  \n",
       "3  [{\"tag_id\": \"f92f4044f79d402db9042a3c5b441a81\"...  \n",
       "4  [{\"tag_id\": \"EsG8NE\", \"tag_name\": \"kehilangan-...  "
      ]
     },
     "execution_count": 131,
     "metadata": {},
     "output_type": "execute_result"
    }
   ],
   "source": [
    "data_train_test.reset_index(drop=True, inplace=True)\n",
    "data_inf.reset_index(drop=True, inplace=True)\n",
    "data_inf.head(5)"
   ]
  },
  {
   "cell_type": "code",
   "execution_count": 132,
   "metadata": {},
   "outputs": [
    {
     "data": {
      "text/html": [
       "<div>\n",
       "<style scoped>\n",
       "    .dataframe tbody tr th:only-of-type {\n",
       "        vertical-align: middle;\n",
       "    }\n",
       "\n",
       "    .dataframe tbody tr th {\n",
       "        vertical-align: top;\n",
       "    }\n",
       "\n",
       "    .dataframe thead th {\n",
       "        text-align: right;\n",
       "    }\n",
       "</style>\n",
       "<table border=\"1\" class=\"dataframe\">\n",
       "  <thead>\n",
       "    <tr style=\"text-align: right;\">\n",
       "      <th></th>\n",
       "      <th>hit_timestamp</th>\n",
       "      <th>tagging</th>\n",
       "    </tr>\n",
       "  </thead>\n",
       "  <tbody>\n",
       "    <tr>\n",
       "      <th>0</th>\n",
       "      <td>2022-07-30</td>\n",
       "      <td>[{\"tag_id\": \"l33saH\", \"tag_name\": \"nathalie-ho...</td>\n",
       "    </tr>\n",
       "    <tr>\n",
       "      <th>1</th>\n",
       "      <td>2022-07-30</td>\n",
       "      <td>[{\"tag_id\": \"l33saH\", \"tag_name\": \"nathalie-ho...</td>\n",
       "    </tr>\n",
       "    <tr>\n",
       "      <th>2</th>\n",
       "      <td>2022-07-31</td>\n",
       "      <td>[{\"tag_id\": \"Tw9Th4\", \"tag_name\": \"deddy-corbu...</td>\n",
       "    </tr>\n",
       "    <tr>\n",
       "      <th>3</th>\n",
       "      <td>2022-07-31</td>\n",
       "      <td>[{\"tag_id\": \"Tw9Th4\", \"tag_name\": \"deddy-corbu...</td>\n",
       "    </tr>\n",
       "    <tr>\n",
       "      <th>4</th>\n",
       "      <td>2022-07-31</td>\n",
       "      <td>[{\"tag_id\": \"MSDG2f\", \"tag_name\": \"valencia-ta...</td>\n",
       "    </tr>\n",
       "  </tbody>\n",
       "</table>\n",
       "</div>"
      ],
      "text/plain": [
       "  hit_timestamp                                            tagging\n",
       "0    2022-07-30  [{\"tag_id\": \"l33saH\", \"tag_name\": \"nathalie-ho...\n",
       "1    2022-07-30  [{\"tag_id\": \"l33saH\", \"tag_name\": \"nathalie-ho...\n",
       "2    2022-07-31  [{\"tag_id\": \"Tw9Th4\", \"tag_name\": \"deddy-corbu...\n",
       "3    2022-07-31  [{\"tag_id\": \"Tw9Th4\", \"tag_name\": \"deddy-corbu...\n",
       "4    2022-07-31  [{\"tag_id\": \"MSDG2f\", \"tag_name\": \"valencia-ta..."
      ]
     },
     "execution_count": 132,
     "metadata": {},
     "output_type": "execute_result"
    }
   ],
   "source": [
    "x = data_train_test.drop('category_name', axis=1)\n",
    "y = data_train_test['category_name']\n",
    "x.head(5)"
   ]
  },
  {
   "cell_type": "markdown",
   "metadata": {},
   "source": [
    "### Splitting Dataset"
   ]
  },
  {
   "cell_type": "markdown",
   "metadata": {},
   "source": [
    "Pada bagian ini dilakukan Splitting Dataset, Splitting Dataset sendiri berguna untuk menghindari terjadinya data leak pada saat traning model. "
   ]
  },
  {
   "cell_type": "code",
   "execution_count": 133,
   "metadata": {},
   "outputs": [
    {
     "name": "stdout",
     "output_type": "stream",
     "text": [
      "Train Size : (766829, 2)\n",
      "Test Size : (191708, 2)\n"
     ]
    }
   ],
   "source": [
    "X_train, X_test, y_train, y_test = train_test_split(x,y, test_size=0.2, random_state=17)\n",
    "\n",
    "print('Train Size :', X_train.shape)\n",
    "print('Test Size :', X_test.shape)"
   ]
  },
  {
   "cell_type": "code",
   "execution_count": 166,
   "metadata": {},
   "outputs": [
    {
     "name": "stdout",
     "output_type": "stream",
     "text": [
      "Numerical Columns : []\n",
      "Categorical Columns : ['hit_timestamp', 'tagging']\n"
     ]
    }
   ],
   "source": [
    "# Kode dibawah digunakan untuk memisahakan numerik variabel dan catogorical variabel yang terdapat pada dataset\n",
    "num_columns = X_train.select_dtypes(include=np.number).columns.tolist()\n",
    "cat_columns = X_train.select_dtypes(include=['object']).columns.tolist()\n",
    "\n",
    "print('Numerical Columns :', num_columns)\n",
    "print('Categorical Columns :', cat_columns)"
   ]
  },
  {
   "cell_type": "code",
   "execution_count": 135,
   "metadata": {},
   "outputs": [
    {
     "data": {
      "text/html": [
       "<div>\n",
       "<style scoped>\n",
       "    .dataframe tbody tr th:only-of-type {\n",
       "        vertical-align: middle;\n",
       "    }\n",
       "\n",
       "    .dataframe tbody tr th {\n",
       "        vertical-align: top;\n",
       "    }\n",
       "\n",
       "    .dataframe thead th {\n",
       "        text-align: right;\n",
       "    }\n",
       "</style>\n",
       "<table border=\"1\" class=\"dataframe\">\n",
       "  <thead>\n",
       "    <tr style=\"text-align: right;\">\n",
       "      <th></th>\n",
       "      <th>hit_timestamp</th>\n",
       "      <th>tagging</th>\n",
       "    </tr>\n",
       "  </thead>\n",
       "  <tbody>\n",
       "    <tr>\n",
       "      <th>35978</th>\n",
       "      <td>2022-09-01</td>\n",
       "      <td>[{\"tag_id\": \"3qc9fR\", \"tag_name\": \"surat-ad-dh...</td>\n",
       "    </tr>\n",
       "    <tr>\n",
       "      <th>129048</th>\n",
       "      <td>2022-11-11</td>\n",
       "      <td>[{\"tag_id\": \"L4rnSt\", \"tag_name\": \"barcelona\",...</td>\n",
       "    </tr>\n",
       "    <tr>\n",
       "      <th>579731</th>\n",
       "      <td>2022-09-08</td>\n",
       "      <td>[{\"tag_id\": \"vw5MMr\", \"tag_name\": \"microsoft\",...</td>\n",
       "    </tr>\n",
       "    <tr>\n",
       "      <th>252353</th>\n",
       "      <td>2022-11-12</td>\n",
       "      <td>[{\"tag_id\": \"F7ue9I\", \"tag_name\": \"putri-candr...</td>\n",
       "    </tr>\n",
       "    <tr>\n",
       "      <th>122429</th>\n",
       "      <td>2022-08-29</td>\n",
       "      <td>[{\"tag_id\": \"7dR0ZR\", \"tag_name\": \"barcelona\",...</td>\n",
       "    </tr>\n",
       "    <tr>\n",
       "      <th>...</th>\n",
       "      <td>...</td>\n",
       "      <td>...</td>\n",
       "    </tr>\n",
       "    <tr>\n",
       "      <th>125680</th>\n",
       "      <td>2022-08-14</td>\n",
       "      <td>[{\"tag_id\": \"Uf5Opm\", \"tag_name\": \"bulutangkis...</td>\n",
       "    </tr>\n",
       "    <tr>\n",
       "      <th>828729</th>\n",
       "      <td>2022-08-15</td>\n",
       "      <td>[{\"tag_id\": \"vAsGPp\", \"tag_name\": \"pubg\", \"tag...</td>\n",
       "    </tr>\n",
       "    <tr>\n",
       "      <th>491926</th>\n",
       "      <td>2022-08-18</td>\n",
       "      <td>[{\"tag_id\": \"9DcTb2\", \"tag_name\": \"ganja\", \"ta...</td>\n",
       "    </tr>\n",
       "    <tr>\n",
       "      <th>297103</th>\n",
       "      <td>2022-08-18</td>\n",
       "      <td>[{\"tag_id\": \"91aX0v\", \"tag_name\": \"artis\", \"ta...</td>\n",
       "    </tr>\n",
       "    <tr>\n",
       "      <th>589041</th>\n",
       "      <td>2022-08-19</td>\n",
       "      <td>[{\"tag_id\": \"nUFysE\", \"tag_name\": \"nft\", \"tag_...</td>\n",
       "    </tr>\n",
       "  </tbody>\n",
       "</table>\n",
       "<p>766829 rows × 2 columns</p>\n",
       "</div>"
      ],
      "text/plain": [
       "       hit_timestamp                                            tagging\n",
       "35978     2022-09-01  [{\"tag_id\": \"3qc9fR\", \"tag_name\": \"surat-ad-dh...\n",
       "129048    2022-11-11  [{\"tag_id\": \"L4rnSt\", \"tag_name\": \"barcelona\",...\n",
       "579731    2022-09-08  [{\"tag_id\": \"vw5MMr\", \"tag_name\": \"microsoft\",...\n",
       "252353    2022-11-12  [{\"tag_id\": \"F7ue9I\", \"tag_name\": \"putri-candr...\n",
       "122429    2022-08-29  [{\"tag_id\": \"7dR0ZR\", \"tag_name\": \"barcelona\",...\n",
       "...              ...                                                ...\n",
       "125680    2022-08-14  [{\"tag_id\": \"Uf5Opm\", \"tag_name\": \"bulutangkis...\n",
       "828729    2022-08-15  [{\"tag_id\": \"vAsGPp\", \"tag_name\": \"pubg\", \"tag...\n",
       "491926    2022-08-18  [{\"tag_id\": \"9DcTb2\", \"tag_name\": \"ganja\", \"ta...\n",
       "297103    2022-08-18  [{\"tag_id\": \"91aX0v\", \"tag_name\": \"artis\", \"ta...\n",
       "589041    2022-08-19  [{\"tag_id\": \"nUFysE\", \"tag_name\": \"nft\", \"tag_...\n",
       "\n",
       "[766829 rows x 2 columns]"
      ]
     },
     "execution_count": 135,
     "metadata": {},
     "output_type": "execute_result"
    }
   ],
   "source": [
    "X_train_num = X_train[num_columns]\n",
    "X_train_cat = X_train[cat_columns]\n",
    "\n",
    "X_test_num = X_test[num_columns]\n",
    "X_test_cat = X_test[cat_columns]\n",
    "\n",
    "X_train_cat"
   ]
  },
  {
   "cell_type": "markdown",
   "metadata": {},
   "source": [
    "## Encoding Dataset"
   ]
  },
  {
   "cell_type": "markdown",
   "metadata": {},
   "source": [
    "Pada bagian encoding dataset ini label encoder dipilih karena tidak ada perulangan dari categorical variable yang akan di encoding."
   ]
  },
  {
   "cell_type": "code",
   "execution_count": 136,
   "metadata": {},
   "outputs": [],
   "source": [
    "le = preprocessing.LabelEncoder()\n",
    "X_test_cat['tagging'] = le.fit_transform(X_test_cat['tagging'])\n",
    "X_train_cat['tagging'] = le.fit_transform(X_train_cat['tagging'])"
   ]
  },
  {
   "cell_type": "code",
   "execution_count": 137,
   "metadata": {},
   "outputs": [],
   "source": [
    "le = preprocessing.LabelEncoder()\n",
    "X_test_cat['hit_timestamp'] = le.fit_transform(X_test_cat['hit_timestamp'])\n",
    "X_train_cat['hit_timestamp'] = le.fit_transform(X_train_cat['hit_timestamp'])"
   ]
  },
  {
   "cell_type": "code",
   "execution_count": 138,
   "metadata": {},
   "outputs": [],
   "source": [
    "y_train = le.fit_transform(y_train)\n",
    "y_test = le.fit_transform(y_test)"
   ]
  },
  {
   "cell_type": "code",
   "execution_count": 139,
   "metadata": {},
   "outputs": [
    {
     "data": {
      "text/plain": [
       "array([[1.3000e+01, 1.3290e+03],\n",
       "       [1.8000e+01, 5.9170e+03],\n",
       "       [1.5000e+01, 1.6263e+04],\n",
       "       ...,\n",
       "       [8.0000e+00, 2.8590e+03],\n",
       "       [8.0000e+00, 2.7750e+03],\n",
       "       [9.0000e+00, 1.4041e+04]])"
      ]
     },
     "execution_count": 139,
     "metadata": {},
     "output_type": "execute_result"
    }
   ],
   "source": [
    "X_train_final = np.concatenate([X_train_num,X_train_cat], axis=1)\n",
    "X_test_final = np.concatenate([X_test_num,X_test_cat], axis=1)\n",
    "X_train_final"
   ]
  },
  {
   "cell_type": "markdown",
   "metadata": {},
   "source": [
    "## Building Machine Learning Model"
   ]
  },
  {
   "cell_type": "code",
   "execution_count": 140,
   "metadata": {},
   "outputs": [
    {
     "name": "stderr",
     "output_type": "stream",
     "text": [
      "/Users/macbookair/opt/anaconda3/lib/python3.9/site-packages/sklearn/linear_model/_logistic.py:444: ConvergenceWarning:\n",
      "\n",
      "lbfgs failed to converge (status=1):\n",
      "STOP: TOTAL NO. of ITERATIONS REACHED LIMIT.\n",
      "\n",
      "Increase the number of iterations (max_iter) or scale the data as shown in:\n",
      "    https://scikit-learn.org/stable/modules/preprocessing.html\n",
      "Please also refer to the documentation for alternative solver options:\n",
      "    https://scikit-learn.org/stable/modules/linear_model.html#logistic-regression\n",
      "\n"
     ]
    }
   ],
   "source": [
    "log_reg = LogisticRegression()\n",
    "model = log_reg.fit(X_train_final, y_train)"
   ]
  },
  {
   "cell_type": "code",
   "execution_count": 141,
   "metadata": {},
   "outputs": [],
   "source": [
    "y_pred_train = model.predict(X_train_final)\n",
    "y_pred_test = model.predict(X_test_final)"
   ]
  },
  {
   "cell_type": "markdown",
   "metadata": {},
   "source": [
    "## Metrics Valuation for Logistic Regression Model"
   ]
  },
  {
   "cell_type": "code",
   "execution_count": 142,
   "metadata": {},
   "outputs": [
    {
     "name": "stdout",
     "output_type": "stream",
     "text": [
      "accuracy score train :  0.13515529537876111\n",
      "accuracy score test :  0.13524213908652744\n"
     ]
    }
   ],
   "source": [
    "print('accuracy score train : ',accuracy_score(y_train,y_pred_train))\n",
    "print('accuracy score test : ',accuracy_score(y_test,y_pred_test))"
   ]
  },
  {
   "cell_type": "code",
   "execution_count": 143,
   "metadata": {},
   "outputs": [
    {
     "data": {
      "text/plain": [
       "array([ 0,  1,  2,  3,  4,  5,  6,  7,  8,  9, 10, 11, 12, 13, 14, 15, 16,\n",
       "       17])"
      ]
     },
     "execution_count": 143,
     "metadata": {},
     "output_type": "execute_result"
    }
   ],
   "source": [
    "model.classes_"
   ]
  },
  {
   "cell_type": "markdown",
   "metadata": {},
   "source": [
    "Hasil dari kode di atas memperlihatkan kelas klasifikasi pada dataset ada 18"
   ]
  },
  {
   "cell_type": "code",
   "execution_count": 144,
   "metadata": {},
   "outputs": [
    {
     "data": {
      "text/plain": [
       "array([[-1.41794761e-02,  2.17161481e-05],\n",
       "       [-2.90810691e-02,  2.88836293e-04],\n",
       "       [-2.35350805e-02,  3.77355531e-04],\n",
       "       [-1.37916552e-02,  2.19521992e-04],\n",
       "       [ 5.18423840e-02,  3.54705024e-04],\n",
       "       [-2.47029983e-03,  3.39274946e-04],\n",
       "       [-6.66684620e-04, -5.39302462e-03],\n",
       "       [ 3.16993833e-03,  3.41754387e-04],\n",
       "       [-9.05223665e-03,  8.16791396e-05],\n",
       "       [-5.90947294e-03,  3.34535929e-04],\n",
       "       [-1.93502731e-02,  3.58294178e-04],\n",
       "       [-4.88901922e-02,  3.88247127e-04],\n",
       "       [ 9.50048617e-04,  3.89871466e-04],\n",
       "       [ 6.90581548e-02,  3.79923745e-04],\n",
       "       [ 7.80060928e-03,  3.37345702e-04],\n",
       "       [ 3.17045258e-02,  3.87790754e-04],\n",
       "       [ 2.56357629e-02,  3.94152885e-04],\n",
       "       [-2.32349836e-02,  3.98019370e-04]])"
      ]
     },
     "execution_count": 144,
     "metadata": {},
     "output_type": "execute_result"
    }
   ],
   "source": [
    "model.coef_"
   ]
  },
  {
   "cell_type": "code",
   "execution_count": 145,
   "metadata": {},
   "outputs": [
    {
     "data": {
      "image/png": "[encoded data removed]",
      "text/plain": [
       "<Figure size 432x288 with 2 Axes>"
      ]
     },
     "metadata": {},
     "output_type": "display_data"
    }
   ],
   "source": [
    "cm = confusion_matrix(y_test, y_pred_test, labels=model.classes_)\n",
    "disp = ConfusionMatrixDisplay(confusion_matrix=cm,display_labels=model.classes_)\n",
    "\n",
    "disp.plot()\n",
    "plt.show()"
   ]
  },
  {
   "cell_type": "code",
   "execution_count": 146,
   "metadata": {},
   "outputs": [
    {
     "name": "stderr",
     "output_type": "stream",
     "text": [
      "/Users/macbookair/opt/anaconda3/lib/python3.9/site-packages/sklearn/metrics/_classification.py:1334: UndefinedMetricWarning:\n",
      "\n",
      "Precision and F-score are ill-defined and being set to 0.0 in labels with no predicted samples. Use `zero_division` parameter to control this behavior.\n",
      "\n",
      "/Users/macbookair/opt/anaconda3/lib/python3.9/site-packages/sklearn/metrics/_classification.py:1334: UndefinedMetricWarning:\n",
      "\n",
      "Precision and F-score are ill-defined and being set to 0.0 in labels with no predicted samples. Use `zero_division` parameter to control this behavior.\n",
      "\n"
     ]
    },
    {
     "name": "stdout",
     "output_type": "stream",
     "text": [
      "              precision    recall  f1-score   support\n",
      "\n",
      "           0       0.00      0.00      0.00      1224\n",
      "           1       0.00      0.00      0.00      3742\n",
      "           2       0.00      0.00      0.00     11361\n",
      "           3       0.00      0.00      0.00      3149\n",
      "           4       0.00      0.00      0.00     18953\n",
      "           5       0.00      0.00      0.00      7972\n",
      "           6       0.00      0.00      0.00         1\n",
      "           7       0.00      0.00      0.00     10510\n",
      "           8       0.00      0.00      0.00      1214\n",
      "           9       0.00      0.00      0.00      7217\n",
      "          10       0.00      0.00      0.00      8864\n",
      "          11       0.00      0.00      0.00      7685\n",
      "          12       0.00      0.00      0.00     15878\n",
      "          13       0.14      0.96      0.24     25778\n",
      "          14       0.00      0.00      0.00     12096\n",
      "          15       0.00      0.00      0.00     24123\n",
      "          16       0.12      0.06      0.08     19446\n",
      "          17       0.40      0.00      0.00     12495\n",
      "\n",
      "    accuracy                           0.14    191708\n",
      "   macro avg       0.04      0.06      0.02    191708\n",
      "weighted avg       0.06      0.14      0.04    191708\n",
      "\n"
     ]
    },
    {
     "name": "stderr",
     "output_type": "stream",
     "text": [
      "/Users/macbookair/opt/anaconda3/lib/python3.9/site-packages/sklearn/metrics/_classification.py:1334: UndefinedMetricWarning:\n",
      "\n",
      "Precision and F-score are ill-defined and being set to 0.0 in labels with no predicted samples. Use `zero_division` parameter to control this behavior.\n",
      "\n"
     ]
    }
   ],
   "source": [
    "print(classification_report(y_test,y_pred_test))"
   ]
  },
  {
   "cell_type": "markdown",
   "metadata": {},
   "source": [
    "Berdasarkan hasil classification report di atas di dapat nilai akurasi yang masih rendah sehingga model machine lerning masih perlu dikembangan lebih lanjut dalam melakukan klasifikasi acara yang ada pada siaran MNC"
   ]
  },
  {
   "cell_type": "markdown",
   "metadata": {},
   "source": [
    "## Conclusion"
   ]
  },
  {
   "cell_type": "markdown",
   "metadata": {},
   "source": [
    "Setelah dilakukan analisa data pada dataset MNC terdapat beberapa temuan menarik diantaranya. Pelanggan MNC di kota besar seperti Jakarta lebih memilih siaran Wisata & Kuliner baik pada gender perempuan maupun laki-laki. Dilihat secara keseluruhan berdasarakan preferensi siaran pada Male, Female, male, dan female dapan terlihat perbedaan yang sangat distinctive dimana pada Female dua acara favorite utama adalah Musik dan Film dan Wisata dan Kuliner sedangkan untuk femal dua acara favorite utamanya adalah Gaya Hidup, dan Wisata dan Kuliner\n",
    "\n",
    "Untuk Male dan male keduanya sama-sama menyukai Politik & Peristiwa sebagai program favorite namun memilik preferensi berbeda untuk acara favorite lainnya dimana male lebih memilih melihat keuangan dan bisnis sedangan Male lebih memilih wisata dan kuliner."
   ]
  },
  {
   "cell_type": "markdown",
   "metadata": {},
   "source": []
  }
 ],
 "metadata": {
  "kernelspec": {
   "display_name": "Python 3.9.12 ('base')",
   "language": "python",
   "name": "python3"
  },
  "language_info": {
   "codemirror_mode": {
    "name": "ipython",
    "version": 3
   },
   "file_extension": ".py",
   "mimetype": "text/x-python",
   "name": "python",
   "nbconvert_exporter": "python",
   "pygments_lexer": "ipython3",
   "version": "3.9.12"
  },
  "orig_nbformat": 4,
  "vscode": {
   "interpreter": {
    "hash": "29b762e6ebb16630dc180eb4a7876cc2a2c9b1bf58b2cade60381b48a6cb6e19"
   }
  }
 },
 "nbformat": 4,
 "nbformat_minor": 2
}
